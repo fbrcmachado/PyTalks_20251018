{
 "cells": [
  {
   "cell_type": "markdown",
   "metadata": {
    "application/vnd.databricks.v1+cell": {
     "cellMetadata": {},
     "inputWidgets": {},
     "nuid": "81ba9dcd-7062-4b60-b10f-8afaf3413aec",
     "showTitle": false,
     "tableResultSettingsMap": {},
     "title": ""
    }
   },
   "source": [
    "\n",
    "# **Do Caos ao dado confiável - Como Python ajuda a construir pipelines inteligentes**\n",
    "# *** Por: Fabricio Machado ***\n",
    "\n"
   ]
  },
  {
   "cell_type": "markdown",
   "metadata": {
    "application/vnd.databricks.v1+cell": {
     "cellMetadata": {},
     "inputWidgets": {},
     "nuid": "6c766eff-0b65-41d6-9bcf-a63e078df5df",
     "showTitle": false,
     "tableResultSettingsMap": {},
     "title": ""
    }
   },
   "source": [
    "\n",
    "#Breve Histórico\n",
    "\n",
    "#Anos 1970–1980: Origem dos Bancos de Dados Relacionais\n",
    "\n",
    "1970: Edgar F. Codd (IBM) publica o artigo “A Relational Model of Data for Large Shared Data Banks”, criando o conceito de banco de dados relacional (RDBMS).\n",
    "\n",
    "1974–1980: Surgem os primeiros SGBDs relacionais: System R (IBM), Ingres, Oracle e DB2.\n",
    "\n",
    "A modelagem relacional se consolida com o uso de tabelas normalizadas, chaves primárias e estrangeiras e a linguagem SQL (Structured Query Language).\n",
    "\n",
    "#\uD83D\uDDC3️ Anos 1990: BI e Modelagem Dimensional\n",
    "\n",
    "1990–1996: Bill Inmon e Ralph Kimball difundem a arquitetura de Data Warehouse (DW).\n",
    "\n",
    "Inmon: abordagem top-down, DW corporativo e data marts.\n",
    "\n",
    "Kimball: abordagem bottom-up, modelo dimensional com fatos e dimensões.\n",
    "\n",
    "ETL (Extract, Transform, Load) torna-se o padrão para preparar dados analíticos.\n",
    "\n",
    "Surgem ferramentas de BI como Cognos, Business Objects, MicroStrategy.\n",
    "\n",
    "#\uD83D\uDC0D Anos 2000: Popularização de Python e Automação de Dados\n",
    "\n",
    "Python se torna popular em ciência de dados graças à sua facilidade de uso e bibliotecas como NumPy e Pandas.\n",
    "\n",
    "Bancos como MySQL, PostgreSQL e SQL Server se consolidam no mercado.\n",
    "\n",
    "Ferramentas de BI evoluem: Tableau, QlikView, Power BI (2015).\n",
    "\n",
    "Cresce o uso de scripts Python para automatizar ETLs, análise estatística e integração com APIs.\n",
    "\n",
    "#☁️ Anos 2010: Big Data, Hadoop e Spark\n",
    "\n",
    "2006–2010: A explosão de dados leva ao conceito de Big Data e ao surgimento do Hadoop (MapReduce, HDFS).\n",
    "\n",
    "2013: O Apache Spark revoluciona o processamento distribuído com in-memory computation, PySpark e APIs unificadas para SQL, streaming e machine learning.\n",
    "\n",
    "Bancos NoSQL (MongoDB, Cassandra, HBase) ganham espaço para dados não estruturados.\n",
    "\n",
    "Plataformas de nuvem (AWS, Azure, GCP) passam a oferecer serviços gerenciados de Big Data e DW (BigQuery, Synapse, Redshift, Databricks).\n",
    "\n",
    "Python + Spark + SQL tornam-se o trio dominante para engenharia de dados moderna.\n",
    "\n",
    "#\uD83E\uDDE0 Anos 2020–2025: Data Lakehouse, BI Unificado e IA\n",
    "\n",
    "O conceito de Lakehouse (Databricks, Delta Lake, Microsoft Fabric, Snowflake) une o Data Lake e o Data Warehouse.\n",
    "\n",
    "Modelos dimensionais híbridos convivem com tabelas Parquet, Delta, Iceberg, e catálogos unificados.\n",
    "\n",
    "Power BI se integra nativamente a Lakehouses e Semantic Models (Fabric).\n",
    "\n",
    "PySpark, dbt, Airflow, Fabric Dataflows Gen2 e notebooks Python impulsionam pipelines de dados low-code e governados.\n",
    "\n",
    "Python continua como a principal linguagem para engenharia de dados, ML e automação, agora com suporte a IA generativa (Copilot, GPTs).\n",
    "\n",
    "Governança e qualidade de dados passam a ser centrais — com Purview, Unity Catalog, Data Quality Scans e Data Products.\n",
    "\n",
    "#\uD83D\uDE80 Hoje (2025): O Ecossistema Integrado\n",
    "\n",
    "Atualmente, a engenharia e a análise de dados convergem em um ecossistema unificado:\n",
    "\n",
    "Camada\tTecnologia\tPapel Principal\n",
    "Ingestão\tData Factory, Dataflow Gen2, Airbyte\tExtração e carga de dados\n",
    "Armazenamento\tDelta Lake, Parquet, SQL, Fabric Lakehouse\tPersistência e versionamento\n",
    "Processamento\tSpark, PySpark, SQL, Fabric Pipelines\tETL/ELT e enriquecimento\n",
    "Modelagem\tDimensional (Fato/Dimensão), Medallion (Bronze/Silver/Gold)\tOrganização lógica dos dados\n",
    "Consumo\tPower BI, Fabric Semantic Model, APIs\tVisualização e consumo\n",
    "Governança\tMicrosoft Purview, Unity Catalog\tMetadados, lineage e compliance"
   ]
  },
  {
   "cell_type": "markdown",
   "metadata": {
    "application/vnd.databricks.v1+cell": {
     "cellMetadata": {},
     "inputWidgets": {},
     "nuid": "26de0498-3966-469d-8713-da5102cdc6b3",
     "showTitle": false,
     "tableResultSettingsMap": {},
     "title": ""
    }
   },
   "source": [
    "\n",
    "# \uD83C\uDFAF Objetivo Geral\n",
    "\n",
    "Demonstrar **como o Python e o PySpark ajudam a construir pipelines de dados inteligentes** no **Databricks**, aplicando boas práticas de engenharia e governança em um fluxo completo — da *Landing (Bronze)* até a *Gold* — dentro do modelo **Medallion Architecture**.\n",
    "\n",
    "A proposta é mostrar, de forma prática e didática, como o uso de Python permite:\n",
    "- gerar, tratar e normalizar dados de forma flexível;\n",
    "- criar pipelines reprocessáveis e automatizáveis;\n",
    "- integrar limpeza, padronização e modelagem analítica em um só ambiente.\n",
    "\n",
    "---\n",
    "\n",
    "# \uD83E\uDDF1 Estrutura da Solução — O Modelo Medallion\n",
    "\n",
    "A arquitetura segue o **modelo Medallion**, proposto pela **Databricks** para organizar os dados em camadas evolutivas.  \n",
    "Ela define uma trilha natural de *maturidade e refinamento* dos dados:\n",
    "\n",
    "| Camada | Nome | Função | Exemplo |\n",
    "|:--|:--|:--|:--|\n",
    "| \uD83E\uDD49 Bronze | **Landing / Raw** | Armazena dados brutos, sem transformação. | `landing_zone_finance` |\n",
    "| \uD83E\uDD48 Silver | **Refined / Clean** | Normaliza formatos, corrige inconsistências e deduplica. | `silver_finance` |\n",
    "| \uD83E\uDD47 Gold | **Curated / Analytics** | Estrutura em **fatos e dimensões** (modelo estrela) para análise. | `fato_precos`, `dim_ticker` |\n",
    "\n",
    "Cada camada tem propósito próprio e clara separação de responsabilidades — o que facilita **reprocessamento, auditoria, versionamento e governança**.\n",
    "\n",
    "---\n",
    "\n",
    "# \uD83C\uDF0A O Surgimento dos Lakehouses e o Papel no ETL\n",
    "\n",
    "Antes dos *Lakehouses*, havia duas abordagens dominantes:\n",
    "1. **Data Warehouses (DW)** – estruturas relacionais, rígidas e caras, ideais para BI, mas pouco flexíveis para grandes volumes e dados semiestruturados.\n",
    "2. **Data Lakes** – repositórios baratos e escaláveis (HDFS, S3, ADLS), mas sem controle de esquema, governança e performance analítica.\n",
    "\n",
    "Com o tempo, essas abordagens se **fundiram** em um novo conceito: o **Lakehouse**.\n",
    "\n",
    "> \uD83D\uDCA1 **Lakehouse = Data Lake + Data Warehouse**\n",
    "\n",
    "Ele combina o melhor dos dois mundos:\n",
    "- Armazena dados **em formato aberto (Parquet/Delta)** no *data lake*;\n",
    "- Garante **transações ACID**, **controle de schema** e **índices otimizados**;\n",
    "- Permite **query SQL, governança e versionamento** sobre o mesmo dado bruto.\n",
    "\n",
    "O **Delta Lake**, tecnologia base do Databricks, é o coração dessa ideia.  \n",
    "Ele permite que o pipeline ETL/ELT seja implementado de ponta a ponta **sem precisar mover dados para outro ambiente**.\n",
    "\n",
    "Em outras palavras:\n",
    "> O Lakehouse é o *habitat natural* do modelo Medallion — onde o ETL nasce, evolui e entrega valor sem fricção.\n",
    "\n",
    "---\n",
    "\n",
    "# \uD83D\uDC0D Por que o Python é importante neste caso\n",
    "\n",
    "O **Python** é o motor da flexibilidade e automação em um Lakehouse moderno.  \n",
    "Ele é essencial aqui por três motivos:\n",
    "\n",
    "1. **Integração total com o Spark**  \n",
    "   - O **PySpark** permite processar dados massivos em clusters distribuídos, com a simplicidade e poder expressivo do Python.\n",
    "\n",
    "2. **Versatilidade na transformação e análise**  \n",
    "   - Criação de funções de parsing, limpeza, padronização e deduplicação;  \n",
    "   - Integração com APIs externas (ex.: Yahoo Finance, APIs REST, arquivos JSON/CSV);  \n",
    "   - Mescla de **engenharia + análise + automação** em um único ambiente.\n",
    "\n",
    "3. **Automação e reprodutibilidade**  \n",
    "   - Notebooks versionáveis;  \n",
    "   - Pipelines parametrizados;  \n",
    "   - Deploy simplificado para **Delta Live Tables (DLT)**, **Jobs** e **Workflows**.\n",
    "\n",
    "> Em resumo: o Python é a “cola” que une engenharia, ciência e governança dentro do Databricks.\n",
    "\n",
    "---\n",
    "\n",
    "# \uD83E\uDDE9 Modelagem de Dados — Star Schema\n",
    "\n",
    "Na camada Gold, os dados são organizados em **Fatos** e **Dimensões**, dentro do modelo **estrela (Star Schema)** — a base dos ambientes analíticos desde os anos 1990.\n",
    "\n",
    "### Estrutura simplificada:\n"
   ]
  },
  {
   "cell_type": "code",
   "execution_count": 0,
   "metadata": {
    "application/vnd.databricks.v1+cell": {
     "cellMetadata": {
      "byteLimit": 2048000,
      "rowLimit": 10000
     },
     "inputWidgets": {},
     "nuid": "a7202949-6280-40f7-9978-a9e6ec604abd",
     "showTitle": false,
     "tableResultSettingsMap": {},
     "title": ""
    }
   },
   "outputs": [],
   "source": [
    "#################################################\n",
    "##         dim_date\n",
    "##           │\n",
    "##           │\n",
    "## dim_ticker ├──▶ fato_precos ◀── dim_exchange\n",
    "## │ │\n",
    "## │ └──▶ fato_marketcap\n",
    "## └──▶ dim_currency\n",
    "\n",
    "\n",
    " "
   ]
  },
  {
   "cell_type": "markdown",
   "metadata": {
    "application/vnd.databricks.v1+cell": {
     "cellMetadata": {},
     "inputWidgets": {},
     "nuid": "4b9474bb-e495-455d-a945-f7cb66e32ed5",
     "showTitle": false,
     "tableResultSettingsMap": {},
     "title": ""
    }
   },
   "source": [
    "\n",
    "### Breve histórico\n",
    "O **modelo dimensional** foi proposto por **Ralph Kimball** na década de 1990, como alternativa prática ao modelo corporativo normalizado de **Bill Inmon**.\n",
    "\n",
    "| Abordagem | Criador | Foco | Características |\n",
    "|:--|:--|:--|:--|\n",
    "| **Inmon (Top-Down)** | Bill Inmon | Data Warehouse corporativo | Estrutura normalizada, integração total, maior rigidez |\n",
    "| **Kimball (Bottom-Up)** | Ralph Kimball | Data Marts departamentais | Estrutura dimensional (fatos e dimensões), fácil para BI |\n",
    "\n",
    "Com o advento dos **Data Lakes** e posteriormente dos **Lakehouses**, o **Star Schema** evoluiu, sendo recriado sobre **tabelas Delta**, mantendo:\n",
    "- Performance analítica (colunar, otimizável);\n",
    "- Transações ACID e versionamento;\n",
    "- Facilidade de integração com Power BI, Fabric e ferramentas SQL.\n",
    "\n",
    "---\n",
    "\n",
    "# \uD83E\uDDE0 Em resumo\n",
    "\n",
    "> O pipeline combina **engenharia robusta (PySpark)**, **governança estruturada (Medallion)** e **modelagem inteligente (Star Schema)** sobre um **Lakehouse moderno**, criando uma fundação sólida para BI, análise avançada e aprendizado de máquina.\n"
   ]
  },
  {
   "cell_type": "markdown",
   "metadata": {
    "application/vnd.databricks.v1+cell": {
     "cellMetadata": {},
     "inputWidgets": {},
     "nuid": "40a490aa-7090-420a-938a-74e0fe5a24bc",
     "showTitle": false,
     "tableResultSettingsMap": {},
     "title": ""
    }
   },
   "source": [
    "\n",
    "%md\n",
    "# \uD83D\uDDD3️ Agenda Rápida\n",
    "\n",
    "1️⃣ **Setup e dependências**  \n",
    "Configuração inicial do ambiente no Databricks Community, bibliotecas e preparação do contexto PySpark.\n",
    "\n",
    "2️⃣ **Landing (Bronze)**  \n",
    "Ingestão de **cotações financeiras** a partir do **Yahoo Finance**, com fallback sintético.  \n",
    "> Mostra como construir dados realistas e intencionalmente “sujos” para simular o mundo real.\n",
    "\n",
    "3️⃣ **Silver (Refined)**  \n",
    "Normalização e padronização de dados:  \n",
    "- limpeza de formatos (datas, moedas, strings);  \n",
    "- conversão de tipos e correção de outliers;  \n",
    "- cálculo de retornos diários e criação da coluna `data_criacao`.\n",
    "\n",
    "4️⃣ **Gold (Curated)**  \n",
    "Separação da Silver em:  \n",
    "- **Fatos** (`fato_precos`, `fato_marketcap`);  \n",
    "- **Dimensões** (`dim_ticker`, `dim_date`, `dim_currency`, `dim_exchange`);  \n",
    "- Criação de métricas derivadas (médias móveis e volatilidade).\n",
    "\n",
    "5️⃣ **Anomalias e Insights**  \n",
    "Detecção de **anomalias de variação de preço (z-score)** e análise exploratória.  \n",
    "> Demonstra como o Python permite estender um pipeline de ETL para Data Science.\n",
    "\n",
    "6️⃣ **Consultas e Visualizações (BI)**  \n",
    "Execução de consultas SQL e geração de gráficos (Matplotlib) para simular dashboards.  \n",
    "> Mostra a transição natural do **ETL → Analytics**, e os próximos passos com **Jobs e Workflows** no Databricks.\n",
    "\n",
    "---\n",
    "\n",
    "\uD83C\uDFAF **Objetivo:**  \n",
    "Apresentar de ponta a ponta como **Python + PySpark + Delta Lake** formam a base de um **pipeline inteligente**, confiável e analítico — no formato **Medallion / Lakehouse**, com modelagem **Star Schema**.\n",
    "\n"
   ]
  },
  {
   "cell_type": "code",
   "execution_count": 0,
   "metadata": {
    "application/vnd.databricks.v1+cell": {
     "cellMetadata": {
      "byteLimit": 2048000,
      "rowLimit": 10000
     },
     "inputWidgets": {},
     "nuid": "d28b4e2f-ccff-4d90-9f40-118bc0baa97d",
     "showTitle": false,
     "tableResultSettingsMap": {},
     "title": ""
    }
   },
   "outputs": [
    {
     "output_type": "stream",
     "name": "stdout",
     "output_type": "stream",
     "text": [
      "Base path: dbfs:/FileStore/finance_pipeline\n"
     ]
    }
   ],
   "source": [
    "\n",
    "# ╔══════════════════════════════════════════════════════════════╗\n",
    "# ║ 1) SETUP: nomes de tabelas e caminhos                        ║\n",
    "# ╚══════════════════════════════════════════════════════════════╝\n",
    "\n",
    "from pyspark.sql import functions as F\n",
    "from pyspark.sql import Window\n",
    "from pyspark.sql import types as T\n",
    "\n",
    "base_path = \"dbfs:/FileStore/finance_pipeline\"\n",
    "\n",
    "landing_tbl = \"landing_zone_finance\"\n",
    "silver_tbl  = \"silver_finance\"\n",
    "gold_fact   = \"fato_precos\"\n",
    "gold_dim_tk = \"dim_ticker\"\n",
    "gold_dim_dt = \"dim_date\"\n",
    "gold_feat   = \"gold_features_finance\"\n",
    "gold_anom   = \"gold_anomalias_finance\"\n",
    "\n",
    "print(\"Base path:\", base_path)\n"
   ]
  },
  {
   "cell_type": "markdown",
   "metadata": {
    "application/vnd.databricks.v1+cell": {
     "cellMetadata": {},
     "inputWidgets": {},
     "nuid": "fa26ad46-cc4a-4b05-9506-d7366044ef9c",
     "showTitle": false,
     "tableResultSettingsMap": {},
     "title": ""
    }
   },
   "source": [
    "\n",
    "\n",
    "\n",
    "# \uD83D\uDCE6 Landing Zone (Geração Sintética “Suja” — PySpark)\n",
    "\n",
    "## Objetivo\n",
    "Criar uma **camada RAW/Landing** realista para demonstrações e testes de pipelines **Medallion (Bronze/Silver/Gold)** usando **apenas PySpark** (sem internet ou libs externas).  \n",
    "A landing simula **cotações financeiras** e injeta **inconsistências intencionais** para que a **Silver** tenha o que normalizar.\n",
    "\n",
    "---\n",
    "\n",
    "## O que este código faz\n",
    "- **Gera 90 dias úteis** recentes (Seg–Sex) a partir da data atual.\n",
    "- Cria **séries de preços** por ticker via *random walk* (retorno ~ N(0,08%, 2%)):\n",
    "  - `open`, `high`, `low`, `close`, `adj_close`, `volume`.\n",
    "- Atribui **metadados do ativo**: `company_name`, `isin`, `sector`, `industry`, `exchange`, `currency`, `country`, `shares_outstanding`.\n",
    "- Calcula **métricas derivadas**: `market_cap`.\n",
    "- **Sujeira proposital** (colunas `raw_*`) para normalização na Silver:\n",
    "  - `raw_ticker` com variação de caixa/espacos/“.SA” ausente;  \n",
    "  - `raw_sector`, `raw_currency`, `raw_exchange`, `raw_country` com typos/variações;  \n",
    "  - `raw_volume` como **string** com separadores;  \n",
    "  - `raw_close_str` como **string** (às vezes vírgula decimal);  \n",
    "  - `raw_date_str` em formatos variados (`dd/MM/yyyy`, `yyyy-MM-dd`, `MM-dd-yyyy`);  \n",
    "  - `raw_close_maybe_neg` (outliers negativos ocasionais), `raw_volume_maybe_null` (nulos raros);  \n",
    "  - `raw_company_name` com espaços extras.\n",
    "- Carimba `_ingest_ts` para **deduplicação** posterior na Silver.\n",
    "- Salva tudo como tabela Delta: **`landing_zone_finance`** (nomes de colunas em *snake_case* e válidos para Delta).\n",
    "\n",
    "\n"
   ]
  },
  {
   "cell_type": "code",
   "execution_count": 0,
   "metadata": {
    "application/vnd.databricks.v1+cell": {
     "cellMetadata": {
      "byteLimit": 2048000,
      "rowLimit": 10000
     },
     "inputWidgets": {},
     "nuid": "92107c22-f549-498c-90d4-aed9f938a5ec",
     "showTitle": false,
     "tableResultSettingsMap": {},
     "title": ""
    }
   },
   "outputs": [
    {
     "output_type": "display_data",
     "data": {
      "text/html": [
       "<style scoped>\n",
       "  .table-result-container {\n",
       "    max-height: 300px;\n",
       "    overflow: auto;\n",
       "  }\n",
       "  table, th, td {\n",
       "    border: 1px solid black;\n",
       "    border-collapse: collapse;\n",
       "  }\n",
       "  th, td {\n",
       "    padding: 5px;\n",
       "  }\n",
       "  th {\n",
       "    text-align: left;\n",
       "  }\n",
       "</style><div class='table-result-container'><table class='table-result'><thead style='background-color: white'><tr><th>trade_date</th><th>open</th><th>high</th><th>low</th><th>close</th><th>adj_close</th><th>volume</th><th>ticker</th><th>company_name</th><th>isin</th><th>sector</th><th>industry</th><th>exchange</th><th>currency</th><th>country</th><th>market_cap</th><th>shares_outstanding</th><th>raw_ticker</th><th>raw_sector</th><th>raw_currency</th><th>raw_exchange</th><th>raw_country</th><th>raw_volume</th><th>raw_close_str</th><th>raw_date_str</th><th>raw_close_maybe_neg</th><th>raw_volume_maybe_null</th><th>raw_company_name</th><th>_ingest_ts</th></tr></thead><tbody><tr><td>2025-06-16T00:00:00.000Z</td><td>52.34</td><td>52.38</td><td>52.17</td><td>52.31</td><td>52.31</td><td>180516</td><td>ITUB4.SA</td><td>Itaú Unibanco PN</td><td>BRITUBACNPR1</td><td>Financials</td><td>Banks</td><td>B3</td><td>BRL</td><td>BR</td><td>5.44024E11</td><td>10400000000</td><td>  itub4.SA</td><td>financial</td><td> brl </td><td>B3 </td><td>br</td><td>180,516</td><td>52.31</td><td>2025-06-16</td><td>52.31</td><td>180,516</td><td> Itaú Unibanco PN  </td><td>2025-10-18T13:11:37.390Z</td></tr><tr><td>2025-06-16T00:00:00.000Z</td><td>60.64</td><td>60.86</td><td>60.38</td><td>60.7</td><td>60.7</td><td>5830771</td><td>PETR4.SA</td><td>Petrobras PN</td><td>BRPETRACNPR6</td><td>Energy</td><td>Oil & Gas</td><td>B3</td><td>BRL</td><td>BR</td><td>7.92135E11</td><td>13050000000</td><td>petr4.sa</td><td>ENERGY </td><td>Brl</td><td> b3</td><td>Brasil</td><td>5,830,771</td><td>60.70</td><td>06-16-2025</td><td>-60.7</td><td>5,830,771</td><td> Petrobras PN  </td><td>2025-10-18T13:11:37.390Z</td></tr><tr><td>2025-06-16T00:00:00.000Z</td><td>39.44</td><td>39.57</td><td>39.19</td><td>39.33</td><td>39.33</td><td>4329341</td><td>VALE3.SA</td><td>Vale ON</td><td>BRVALEACNOR0</td><td>Materials</td><td>Metals & Mining</td><td>B3</td><td>BRL</td><td>BR</td><td>1.76985E11</td><td>4500000000</td><td>VALE3</td><td>Materiais</td><td>R$</td><td>B3 </td><td>Brasil</td><td>4,329,341</td><td>39.33</td><td>2025-06-16</td><td>39.33</td><td>4,329,341</td><td> Vale ON  </td><td>2025-10-18T13:11:37.390Z</td></tr><tr><td>2025-06-16T00:00:00.000Z</td><td>91.8</td><td>92.19</td><td>91.31</td><td>92.02</td><td>92.02</td><td>8006801</td><td>WEGE3.SA</td><td>WEG ON</td><td>BRWEGEACNOR0</td><td>Industrials</td><td>Electrical Equipment</td><td>B3</td><td>BRL</td><td>BR</td><td>3.86484E11</td><td>4200000000</td><td>WEGE3.sa</td><td>Industrials</td><td>Brl</td><td> b3</td><td>Brasil</td><td>8006801</td><td>92.02</td><td>2025-06-16</td><td>92.02</td><td>8006801</td><td> WEG ON  </td><td>2025-10-18T13:11:37.390Z</td></tr><tr><td>2025-06-16T00:00:00.000Z</td><td>66.69</td><td>67.12</td><td>66.43</td><td>66.74</td><td>66.74</td><td>3769430</td><td>^BVSP</td><td>Ibovespa Index</td><td>null</td><td>Energy</td><td>Benchmark</td><td>B3</td><td>BRL</td><td>BR</td><td>0.0</td><td>0</td><td>^BVSP</td><td>energy</td><td>Brl</td><td>B3 </td><td>Brasil</td><td>3769430</td><td>66.74</td><td>2025-06-16</td><td>66.74</td><td>3769430</td><td> Ibovespa Index  </td><td>2025-10-18T13:11:37.390Z</td></tr><tr><td>2025-06-17T00:00:00.000Z</td><td>53.11</td><td>53.33</td><td>52.73</td><td>52.84</td><td>52.84</td><td>3777173</td><td>ITUB4.SA</td><td>Itaú Unibanco PN</td><td>BRITUBACNPR1</td><td>Financials</td><td>Banks</td><td>B3</td><td>BRL</td><td>BR</td><td>5.4953600000000006E11</td><td>10400000000</td><td>  itub4.SA</td><td>financial</td><td>Brl</td><td> b3</td><td>Brasil</td><td>3,777,173</td><td>52.84</td><td>17/06/2025</td><td>52.84</td><td>null</td><td> Itaú Unibanco PN  </td><td>2025-10-18T13:11:37.390Z</td></tr><tr><td>2025-06-17T00:00:00.000Z</td><td>60.6</td><td>60.79</td><td>60.48</td><td>60.65</td><td>60.65</td><td>3516583</td><td>PETR4.SA</td><td>Petrobras PN</td><td>BRPETRACNPR6</td><td>Energy</td><td>Oil & Gas</td><td>B3</td><td>BRL</td><td>BR</td><td>7.914825E11</td><td>13050000000</td><td>PETR4</td><td>energy</td><td>Brl</td><td> b3</td><td>Brasil</td><td>3,516,583</td><td>60.65</td><td>2025-06-17</td><td>60.65</td><td>3,516,583</td><td> Petrobras PN  </td><td>2025-10-18T13:11:37.390Z</td></tr><tr><td>2025-06-17T00:00:00.000Z</td><td>39.08</td><td>39.2</td><td>38.79</td><td>39.13</td><td>39.13</td><td>5263958</td><td>VALE3.SA</td><td>Vale ON</td><td>BRVALEACNOR0</td><td>Materials</td><td>Metals & Mining</td><td>B3</td><td>BRL</td><td>BR</td><td>1.76085E11</td><td>4500000000</td><td>VALE3</td><td>Materiais</td><td>R$</td><td> b3</td><td>Brasil</td><td>5263958</td><td>39.13</td><td>2025-06-17</td><td>39.13</td><td>5263958</td><td> Vale ON  </td><td>2025-10-18T13:11:37.390Z</td></tr><tr><td>2025-06-17T00:00:00.000Z</td><td>94.49</td><td>94.63</td><td>93.97</td><td>94.1</td><td>94.1</td><td>5564887</td><td>WEGE3.SA</td><td>WEG ON</td><td>BRWEGEACNOR0</td><td>Industrials</td><td>Electrical Equipment</td><td>B3</td><td>BRL</td><td>BR</td><td>3.9522E11</td><td>4200000000</td><td>WEGE3.sa</td><td>Industrials</td><td>R$</td><td> b3</td><td>Brasil</td><td>5564887</td><td>94.10</td><td>06-17-2025</td><td>94.1</td><td>5564887</td><td> WEG ON  </td><td>2025-10-18T13:11:37.390Z</td></tr><tr><td>2025-06-17T00:00:00.000Z</td><td>66.4</td><td>66.67</td><td>66.26</td><td>66.58</td><td>66.58</td><td>4912106</td><td>^BVSP</td><td>Ibovespa Index</td><td>null</td><td>Energy</td><td>Benchmark</td><td>B3</td><td>BRL</td><td>BR</td><td>0.0</td><td>0</td><td>^BVSP</td><td>energy</td><td>Brl</td><td> b3</td><td>Brasil</td><td>4912106</td><td>66.58</td><td>2025-06-17</td><td>66.58</td><td>4912106</td><td> Ibovespa Index  </td><td>2025-10-18T13:11:37.390Z</td></tr></tbody></table></div>"
      ]
     },
     "metadata": {
      "application/vnd.databricks.v1+output": {
       "addedWidgets": {},
       "aggData": [],
       "aggError": "",
       "aggOverflow": false,
       "aggSchema": [],
       "aggSeriesLimitReached": false,
       "aggType": "",
       "arguments": {},
       "columnCustomDisplayInfos": {},
       "data": [
        [
         "2025-06-16T00:00:00.000Z",
         52.34,
         52.38,
         52.17,
         52.31,
         52.31,
         180516,
         "ITUB4.SA",
         "Itaú Unibanco PN",
         "BRITUBACNPR1",
         "Financials",
         "Banks",
         "B3",
         "BRL",
         "BR",
         5.44024E11,
         10400000000,
         "  itub4.SA",
         "financial",
         " brl ",
         "B3 ",
         "br",
         "180,516",
         "52.31",
         "2025-06-16",
         52.31,
         "180,516",
         " Itaú Unibanco PN  ",
         "2025-10-18T13:11:37.390Z"
        ],
        [
         "2025-06-16T00:00:00.000Z",
         60.64,
         60.86,
         60.38,
         60.7,
         60.7,
         5830771,
         "PETR4.SA",
         "Petrobras PN",
         "BRPETRACNPR6",
         "Energy",
         "Oil & Gas",
         "B3",
         "BRL",
         "BR",
         7.92135E11,
         13050000000,
         "petr4.sa",
         "ENERGY ",
         "Brl",
         " b3",
         "Brasil",
         "5,830,771",
         "60.70",
         "06-16-2025",
         -60.7,
         "5,830,771",
         " Petrobras PN  ",
         "2025-10-18T13:11:37.390Z"
        ],
        [
         "2025-06-16T00:00:00.000Z",
         39.44,
         39.57,
         39.19,
         39.33,
         39.33,
         4329341,
         "VALE3.SA",
         "Vale ON",
         "BRVALEACNOR0",
         "Materials",
         "Metals & Mining",
         "B3",
         "BRL",
         "BR",
         1.76985E11,
         4500000000,
         "VALE3",
         "Materiais",
         "R$",
         "B3 ",
         "Brasil",
         "4,329,341",
         "39.33",
         "2025-06-16",
         39.33,
         "4,329,341",
         " Vale ON  ",
         "2025-10-18T13:11:37.390Z"
        ],
        [
         "2025-06-16T00:00:00.000Z",
         91.8,
         92.19,
         91.31,
         92.02,
         92.02,
         8006801,
         "WEGE3.SA",
         "WEG ON",
         "BRWEGEACNOR0",
         "Industrials",
         "Electrical Equipment",
         "B3",
         "BRL",
         "BR",
         3.86484E11,
         4200000000,
         "WEGE3.sa",
         "Industrials",
         "Brl",
         " b3",
         "Brasil",
         "8006801",
         "92.02",
         "2025-06-16",
         92.02,
         "8006801",
         " WEG ON  ",
         "2025-10-18T13:11:37.390Z"
        ],
        [
         "2025-06-16T00:00:00.000Z",
         66.69,
         67.12,
         66.43,
         66.74,
         66.74,
         3769430,
         "^BVSP",
         "Ibovespa Index",
         null,
         "Energy",
         "Benchmark",
         "B3",
         "BRL",
         "BR",
         0.0,
         0,
         "^BVSP",
         "energy",
         "Brl",
         "B3 ",
         "Brasil",
         "3769430",
         "66.74",
         "2025-06-16",
         66.74,
         "3769430",
         " Ibovespa Index  ",
         "2025-10-18T13:11:37.390Z"
        ],
        [
         "2025-06-17T00:00:00.000Z",
         53.11,
         53.33,
         52.73,
         52.84,
         52.84,
         3777173,
         "ITUB4.SA",
         "Itaú Unibanco PN",
         "BRITUBACNPR1",
         "Financials",
         "Banks",
         "B3",
         "BRL",
         "BR",
         5.4953600000000006E11,
         10400000000,
         "  itub4.SA",
         "financial",
         "Brl",
         " b3",
         "Brasil",
         "3,777,173",
         "52.84",
         "17/06/2025",
         52.84,
         null,
         " Itaú Unibanco PN  ",
         "2025-10-18T13:11:37.390Z"
        ],
        [
         "2025-06-17T00:00:00.000Z",
         60.6,
         60.79,
         60.48,
         60.65,
         60.65,
         3516583,
         "PETR4.SA",
         "Petrobras PN",
         "BRPETRACNPR6",
         "Energy",
         "Oil & Gas",
         "B3",
         "BRL",
         "BR",
         7.914825E11,
         13050000000,
         "PETR4",
         "energy",
         "Brl",
         " b3",
         "Brasil",
         "3,516,583",
         "60.65",
         "2025-06-17",
         60.65,
         "3,516,583",
         " Petrobras PN  ",
         "2025-10-18T13:11:37.390Z"
        ],
        [
         "2025-06-17T00:00:00.000Z",
         39.08,
         39.2,
         38.79,
         39.13,
         39.13,
         5263958,
         "VALE3.SA",
         "Vale ON",
         "BRVALEACNOR0",
         "Materials",
         "Metals & Mining",
         "B3",
         "BRL",
         "BR",
         1.76085E11,
         4500000000,
         "VALE3",
         "Materiais",
         "R$",
         " b3",
         "Brasil",
         "5263958",
         "39.13",
         "2025-06-17",
         39.13,
         "5263958",
         " Vale ON  ",
         "2025-10-18T13:11:37.390Z"
        ],
        [
         "2025-06-17T00:00:00.000Z",
         94.49,
         94.63,
         93.97,
         94.1,
         94.1,
         5564887,
         "WEGE3.SA",
         "WEG ON",
         "BRWEGEACNOR0",
         "Industrials",
         "Electrical Equipment",
         "B3",
         "BRL",
         "BR",
         3.9522E11,
         4200000000,
         "WEGE3.sa",
         "Industrials",
         "R$",
         " b3",
         "Brasil",
         "5564887",
         "94.10",
         "06-17-2025",
         94.1,
         "5564887",
         " WEG ON  ",
         "2025-10-18T13:11:37.390Z"
        ],
        [
         "2025-06-17T00:00:00.000Z",
         66.4,
         66.67,
         66.26,
         66.58,
         66.58,
         4912106,
         "^BVSP",
         "Ibovespa Index",
         null,
         "Energy",
         "Benchmark",
         "B3",
         "BRL",
         "BR",
         0.0,
         0,
         "^BVSP",
         "energy",
         "Brl",
         " b3",
         "Brasil",
         "4912106",
         "66.58",
         "2025-06-17",
         66.58,
         "4912106",
         " Ibovespa Index  ",
         "2025-10-18T13:11:37.390Z"
        ]
       ],
       "datasetInfos": [],
       "dbfsResultPath": null,
       "isJsonSchema": true,
       "metadata": {},
       "overflow": false,
       "plotOptions": {
        "customPlotOptions": {},
        "displayType": "table",
        "pivotAggregation": null,
        "pivotColumns": null,
        "xColumns": null,
        "yColumns": null
       },
       "removedWidgets": [],
       "schema": [
        {
         "metadata": "{}",
         "name": "trade_date",
         "type": "\"timestamp\""
        },
        {
         "metadata": "{}",
         "name": "open",
         "type": "\"double\""
        },
        {
         "metadata": "{}",
         "name": "high",
         "type": "\"double\""
        },
        {
         "metadata": "{}",
         "name": "low",
         "type": "\"double\""
        },
        {
         "metadata": "{}",
         "name": "close",
         "type": "\"double\""
        },
        {
         "metadata": "{}",
         "name": "adj_close",
         "type": "\"double\""
        },
        {
         "metadata": "{}",
         "name": "volume",
         "type": "\"long\""
        },
        {
         "metadata": "{}",
         "name": "ticker",
         "type": "\"string\""
        },
        {
         "metadata": "{}",
         "name": "company_name",
         "type": "\"string\""
        },
        {
         "metadata": "{}",
         "name": "isin",
         "type": "\"string\""
        },
        {
         "metadata": "{}",
         "name": "sector",
         "type": "\"string\""
        },
        {
         "metadata": "{}",
         "name": "industry",
         "type": "\"string\""
        },
        {
         "metadata": "{}",
         "name": "exchange",
         "type": "\"string\""
        },
        {
         "metadata": "{}",
         "name": "currency",
         "type": "\"string\""
        },
        {
         "metadata": "{}",
         "name": "country",
         "type": "\"string\""
        },
        {
         "metadata": "{}",
         "name": "market_cap",
         "type": "\"double\""
        },
        {
         "metadata": "{}",
         "name": "shares_outstanding",
         "type": "\"long\""
        },
        {
         "metadata": "{}",
         "name": "raw_ticker",
         "type": "\"string\""
        },
        {
         "metadata": "{}",
         "name": "raw_sector",
         "type": "\"string\""
        },
        {
         "metadata": "{}",
         "name": "raw_currency",
         "type": "\"string\""
        },
        {
         "metadata": "{}",
         "name": "raw_exchange",
         "type": "\"string\""
        },
        {
         "metadata": "{}",
         "name": "raw_country",
         "type": "\"string\""
        },
        {
         "metadata": "{}",
         "name": "raw_volume",
         "type": "\"string\""
        },
        {
         "metadata": "{}",
         "name": "raw_close_str",
         "type": "\"string\""
        },
        {
         "metadata": "{}",
         "name": "raw_date_str",
         "type": "\"string\""
        },
        {
         "metadata": "{}",
         "name": "raw_close_maybe_neg",
         "type": "\"double\""
        },
        {
         "metadata": "{}",
         "name": "raw_volume_maybe_null",
         "type": "\"string\""
        },
        {
         "metadata": "{}",
         "name": "raw_company_name",
         "type": "\"string\""
        },
        {
         "metadata": "{}",
         "name": "_ingest_ts",
         "type": "\"timestamp\""
        }
       ],
       "type": "table"
      }
     },
     "output_type": "display_data"
    },
    {
     "output_type": "stream",
     "name": "stdout",
     "output_type": "stream",
     "text": [
      "✅ Landing (suja) criada: landing_zone_finance\n"
     ]
    }
   ],
   "source": [
    "# ╔══════════════════════════════════════════════════════════════╗\n",
    "# ║ Landing — geração sintética “suja” (versão segura)           ║\n",
    "# ╚══════════════════════════════════════════════════════════════╝\n",
    "from pyspark.sql import functions as F\n",
    "from pyspark.sql.window import Window\n",
    "\n",
    "landing_tbl = \"landing_zone_finance\"\n",
    "\n",
    "# --- Metadados por ticker ---\n",
    "meta_rows = [\n",
    "    (\"^BVSP\",    \"Ibovespa Index\",     None,            \"Energy\",      \"Benchmark\",            \"B3\", \"BRL\", \"BR\",      0),\n",
    "    (\"PETR4.SA\", \"Petrobras PN\",       \"BRPETRACNPR6\",  \"Energy\",      \"Oil & Gas\",            \"B3\", \"BRL\", \"BR\", 13050000000),\n",
    "    (\"VALE3.SA\", \"Vale ON\",            \"BRVALEACNOR0\",  \"Materials\",   \"Metals & Mining\",      \"B3\", \"BRL\", \"BR\",  4500000000),\n",
    "    (\"ITUB4.SA\", \"Itaú Unibanco PN\",   \"BRITUBACNPR1\",  \"Financials\",  \"Banks\",                \"B3\", \"BRL\", \"BR\", 10400000000),\n",
    "    (\"WEGE3.SA\", \"WEG ON\",             \"BRWEGEACNOR0\",  \"Industrials\", \"Electrical Equipment\", \"B3\", \"BRL\", \"BR\",  4200000000),\n",
    "]\n",
    "df_meta = spark.createDataFrame(\n",
    "    meta_rows,\n",
    "    [\"ticker\",\"company_name\",\"isin\",\"sector\",\"industry\",\"exchange\",\"currency\",\"country\",\"shares_outstanding\"]\n",
    ")\n",
    "\n",
    "# --- Datas: 90 dias úteis recentes ---\n",
    "dates = (\n",
    "    spark.range(0, 180)\n",
    "    .select(\n",
    "        F.date_add(\n",
    "            F.date_sub(F.current_date(), F.lit(179)),     # start\n",
    "            F.col(\"id\").cast(\"int\")                       # add id days (INT)\n",
    "        ).alias(\"d\")\n",
    "    )\n",
    "    .filter(F.dayofweek(F.col(\"d\")).between(2, 6))        # Mon..Fri\n",
    "    .orderBy(F.col(\"d\"))\n",
    "    .withColumn(\"trade_date\", F.to_timestamp(F.col(\"d\")))\n",
    "    .drop(\"d\")\n",
    ")\n",
    "\n",
    "w_last = Window.partitionBy(F.lit(1)).orderBy(F.col(\"trade_date\").desc())\n",
    "dates90 = (\n",
    "    dates.withColumn(\"rn\", F.row_number().over(w_last))\n",
    "         .filter(F.col(\"rn\") <= 90)\n",
    "         .drop(\"rn\")\n",
    "         .orderBy(F.col(\"trade_date\"))\n",
    ")\n",
    "\n",
    "# --- Série sintética por ticker ---\n",
    "w_tt = Window.partitionBy(F.col(\"ticker\")).orderBy(F.col(\"trade_date\")) \\\n",
    "             .rowsBetween(Window.unboundedPreceding, Window.currentRow)\n",
    "\n",
    "grid = (\n",
    "  df_meta.crossJoin(dates90)\n",
    "  .withColumn(\"ret\", F.randn(42)*F.lit(0.02) + F.lit(0.0008))\n",
    "  .withColumn(\"log_growth\", F.log1p(F.col(\"ret\")))\n",
    "  .withColumn(\"cum_log_growth\", F.sum(F.col(\"log_growth\")).over(w_tt))\n",
    "  .withColumn(\"base_price\", (F.pmod(F.abs(F.hash(F.col(\"ticker\"))), F.lit(90)) + F.lit(30)).cast(\"double\"))\n",
    "  .withColumn(\"close\",  F.round(F.col(\"base_price\") * F.exp(F.col(\"cum_log_growth\")), 2))\n",
    "  .withColumn(\"open\",   F.round(F.col(\"close\") * (F.lit(1) + F.randn(1234)*F.lit(0.003)), 2))\n",
    "  .withColumn(\"high\",   F.round(F.greatest(F.col(\"open\"), F.col(\"close\")) * (F.lit(1) + F.abs(F.randn(567)*F.lit(0.003))), 2))\n",
    "  .withColumn(\"low\",    F.round(F.least(F.col(\"open\"), F.col(\"close\"))  * (F.lit(1) - F.abs(F.randn(890)*F.lit(0.003))), 2))\n",
    "  .withColumn(\"adj_close\", F.col(\"close\"))\n",
    "  .withColumn(\"vol_base\", (F.pmod(F.abs(F.hash(F.concat_ws('_', F.col(\"ticker\")))), F.lit(3))*F.lit(1e6) + F.lit(3e6)).cast(\"double\"))\n",
    "  .withColumn(\"volume\", F.abs((F.randn(7)*F.lit(1.5e6)) + F.col(\"vol_base\")).cast(\"long\"))\n",
    "  .withColumn(\"market_cap\", (F.col(\"close\") * F.col(\"shares_outstanding\")).cast(\"double\"))\n",
    ")\n",
    "\n",
    "# --- Sujeiras intencionais (SEM usar expr / strings soltas) ---\n",
    "# ajudantes para “sujar” valores sem expr\n",
    "def maybe(val_if_true, val_if_false, p, seed):\n",
    "    return F.when(F.rand(seed) < F.lit(p), val_if_true).otherwise(val_if_false)\n",
    "\n",
    "grid = (\n",
    "  grid\n",
    "  # raw_ticker: variações em caixa/espaços/falta .SA (sem expr)\n",
    "  .withColumn(\"raw_ticker\",\n",
    "      F.when(F.col(\"ticker\")==\"PETR4.SA\",\n",
    "             maybe(F.lit(\"petr4.sa\"),\n",
    "                   maybe(F.lit(\"PETR4\"), F.lit(\" PETR4.SA \"), F.lit(0.5), 2),\n",
    "                   F.lit(0.33), 1))\n",
    "       .when(F.col(\"ticker\")==\"VALE3.SA\",\n",
    "             maybe(F.lit(\"VALE3\"), F.lit(\"vale3.sa\"), F.lit(0.5), 3))\n",
    "       .when(F.col(\"ticker\")==\"ITUB4.SA\", F.lit(\"  itub4.SA\"))\n",
    "       .when(F.col(\"ticker\")==\"WEGE3.SA\", F.lit(\"WEGE3.sa\"))\n",
    "       .otherwise(F.col(\"ticker\"))\n",
    "  )\n",
    "  # raw_sector\n",
    "  .withColumn(\"raw_sector\",\n",
    "      F.when(F.col(\"sector\")==\"Energy\",\n",
    "             maybe(F.lit(\"energy\"), F.lit(\"ENERGY \"), F.lit(0.5), 4))\n",
    "       .when(F.col(\"sector\")==\"Materials\",  F.lit(\"Materiais\"))\n",
    "       .when(F.col(\"sector\")==\"Financials\", F.lit(\"financial\"))\n",
    "       .otherwise(F.col(\"sector\"))\n",
    "  )\n",
    "  # raw_currency\n",
    "  .withColumn(\"raw_currency\",\n",
    "      F.when(F.col(\"currency\")==\"BRL\",\n",
    "             maybe(F.lit(\"Brl\"), maybe(F.lit(\"R$\"), F.lit(\" brl \"), F.lit(0.5), 6), F.lit(0.33), 5))\n",
    "       .otherwise(F.col(\"currency\"))\n",
    "  )\n",
    "  # raw_exchange\n",
    "  .withColumn(\"raw_exchange\",\n",
    "      F.when(F.col(\"exchange\")==\"B3\",\n",
    "             maybe(F.lit(\" b3\"), F.lit(\"B3 \"), F.lit(0.5), 7))\n",
    "       .otherwise(F.col(\"exchange\"))\n",
    "  )\n",
    "  # raw_country\n",
    "  .withColumn(\"raw_country\",\n",
    "      F.when(F.col(\"country\")==\"BR\",\n",
    "             maybe(F.lit(\"br\"), F.lit(\"Brasil\"), F.lit(0.33), 8))\n",
    "       .otherwise(F.col(\"country\"))\n",
    "  )\n",
    "  # raw_volume (string com separadores)\n",
    "  .withColumn(\"raw_volume\",\n",
    "      maybe(F.format_string(\"%,d\", F.col(\"volume\")), F.format_string(\"%d\", F.col(\"volume\")), F.lit(0.5), 9)\n",
    "  )\n",
    "  # raw_close_str (string; às vezes vírgula decimal) — usar regexp_replace, não F.replace\n",
    "  .withColumn(\"raw_close_str\",\n",
    "      maybe(F.regexp_replace(F.format_string(\"%.2f\", F.col(\"close\")), r\"\\\\.\", \",\"),  # troca . por ,\n",
    "            F.format_string(\"%.2f\", F.col(\"close\")),\n",
    "            F.lit(0.4), 10)\n",
    "  )\n",
    "  # raw_date_str em formatos variados\n",
    "  .withColumn(\"raw_date_str\",\n",
    "      F.when(F.rand(11) < F.lit(0.33), F.date_format(F.col(\"trade_date\"), \"dd/MM/yyyy\"))\n",
    "       .when(F.rand(12) < F.lit(0.66), F.date_format(F.col(\"trade_date\"), \"yyyy-MM-dd\"))\n",
    "       .otherwise(F.date_format(F.col(\"trade_date\"), \"MM-dd-yyyy\"))\n",
    "  )\n",
    "  # outliers ocasionais\n",
    "  .withColumn(\"raw_close_maybe_neg\",\n",
    "      F.when(F.rand(13) < F.lit(0.02), F.col(\"close\") * F.lit(-1)).otherwise(F.col(\"close\"))\n",
    "  )\n",
    "  .withColumn(\"raw_volume_maybe_null\",\n",
    "      F.when(F.rand(14) < F.lit(0.02), F.lit(None).cast(\"string\")).otherwise(F.col(\"raw_volume\"))\n",
    "  )\n",
    "  # company com espaços extras\n",
    "  .withColumn(\"raw_company_name\", F.concat(F.lit(\" \"), F.col(\"company_name\"), F.lit(\"  \")))\n",
    "  # carimbo de ingestão\n",
    "  .withColumn(\"_ingest_ts\", F.current_timestamp())\n",
    ")\n",
    "\n",
    "landing_df = grid.select(\n",
    "    # limpos base\n",
    "    F.col(\"trade_date\"), F.col(\"open\"), F.col(\"high\"), F.col(\"low\"), F.col(\"close\"), F.col(\"adj_close\"), F.col(\"volume\"),\n",
    "    F.col(\"ticker\"), F.col(\"company_name\"), F.col(\"isin\"), F.col(\"sector\"), F.col(\"industry\"),\n",
    "    F.col(\"exchange\"), F.col(\"currency\"), F.col(\"country\"),\n",
    "    F.col(\"market_cap\"), F.col(\"shares_outstanding\"),\n",
    "    # sujos\n",
    "    F.col(\"raw_ticker\"), F.col(\"raw_sector\"), F.col(\"raw_currency\"), F.col(\"raw_exchange\"), F.col(\"raw_country\"),\n",
    "    F.col(\"raw_volume\"), F.col(\"raw_close_str\"), F.col(\"raw_date_str\"),\n",
    "    F.col(\"raw_close_maybe_neg\"), F.col(\"raw_volume_maybe_null\"), F.col(\"raw_company_name\"),\n",
    "    # util\n",
    "    F.col(\"_ingest_ts\")\n",
    ")\n",
    "\n",
    "spark.sql(f\"DROP TABLE IF EXISTS {landing_tbl}\")\n",
    "landing_df.write.mode(\"overwrite\").saveAsTable(landing_tbl)\n",
    "\n",
    "display(spark.table(landing_tbl).orderBy(F.col(\"trade_date\"), F.col(\"ticker\")).limit(10))\n",
    "print(\"✅ Landing (suja) criada:\", landing_tbl)\n"
   ]
  },
  {
   "cell_type": "markdown",
   "metadata": {
    "application/vnd.databricks.v1+cell": {
     "cellMetadata": {},
     "inputWidgets": {},
     "nuid": "866e0550-3a68-4ae9-b69d-3123ba75ab46",
     "showTitle": false,
     "tableResultSettingsMap": {},
     "title": ""
    }
   },
   "source": [
    "# \uD83E\uDD48 Silver (Normalização, Tipagem, Dedupe & `data_criacao`)\n",
    "\n",
    "## Objetivo\n",
    "Transformar a **Landing (suja)** em um conjunto **padronizado e confiável** para consumo analítico:\n",
    "- **Normaliza** campos “raw” (strings, formatos variados);\n",
    "- **Converte tipos** (datas, números, inteiros);\n",
    "- **Corrige domínio** (ticker, moeda, país, setor);\n",
    "- **Deduplica** por `(ticker, trade_date)` mantendo o mais recente;\n",
    "- **Carimba** `data_criacao` para auditoria/lineage.\n",
    "\n",
    "---\n",
    "\n",
    "## O que este código faz\n",
    "1. **Helpers de parsing**  \n",
    "   - `parse_amount_str()`: converte `\"12,34\"` / `\"1.234,56\"` / `\"1,234.56\"` → `float`.  \n",
    "   - `parse_intlike_str()`: converte `\"5,234,000\"` / `\"5.234.000\"` → `long`.\n",
    "\n",
    "2. **Normalizações de domínio**\n",
    "   - **Ticker**: `raw_ticker → TICKER` (trim/UPPER, remove espaços, adiciona `.SA` quando falta; preserva índices `^BVSP`).  \n",
    "   - **Setor/Sector**: corrige variações: `energy/ENERGY ` → `ENERGY`; `Materiais` → `MATERIALS`; `financial` → `FINANCIALS`.  \n",
    "   - **Currency**: `R$`, ` brl` → `BRL`.  \n",
    "   - **Exchange**: padroniza `B3`.  \n",
    "   - **Country**: `br`, `Brasil` → `BR`.  \n",
    "   - **Company Name**: compacta espaços internos.\n",
    "\n",
    "3. **Datas (tolerante a erro)**\n",
    "   - Tenta **múltiplos formatos** de `raw_date_str`:  \n",
    "     `dd/MM/yyyy`, `yyyy-MM-dd`, `MM-dd-yyyy`.  \n",
    "   - Usa `try_to_timestamp` via `expr()`; se falhar, **fallback** para `trade_date` da Landing.\n",
    "\n",
    "4. **Medidas (tipagem e correções)**\n",
    "   - **Volume**: prioriza `raw_volume_*` (strings) → `long`; senão, usa `volume` da Landing.  \n",
    "   - **Preços**: prioriza `raw_close_str` (string) → `double`; depois `raw_close_maybe_neg`; impede valores `≤ 0`.  \n",
    "   - `open/high/low/adj_close`, `market_cap`, `shares_outstanding` tipados.\n",
    "\n",
    "5. **Deduplicação**\n",
    "   - Chave: `(ticker, trade_date)`  \n",
    "   - Mantém o registro com maior `_ingest_ts` (linha “mais recente”).\n",
    "\n",
    "6. **Governança**\n",
    "   - Adiciona `data_criacao = current_timestamp()`.\n",
    "\n",
    "7. **Persistência**\n",
    "   - Sobrescreve a **tabela Delta** `silver_finance`.  \n",
    "   - (Durante desenvolvimento, derruba a tabela antes de gravar para evitar conflito de schema.)\n",
    "\n",
    "---\n",
    "\n",
    "## Por que isso importa \n",
    "- A **Silver** é o **primeiro nível confiável** do pipeline: pronta para **fatos & dimensões** (Gold) e BI.  \n",
    "- Reduz retrabalho a jusante, padronizando **domínios e tipos** e garantindo **unicidade** por chave de negócio.\n",
    "\n",
    "---\n",
    "\n",
    "## Saída (Esquema lógico)\n",
    "- **Chaves**: `ticker`, `trade_date`  \n",
    "- **Medidas**: `open`, `high`, `low`, `close`, `adj_close`, `volume`, `market_cap`  \n",
    "- **Atributos**: `company_name`, `isin`, `sector`, `industry`, `exchange`, `currency`, `country`, `shares_outstanding`  \n",
    "- **Metadados**: `data_criacao`\n",
    "\n",
    "---\n",
    "\n",
    "## Dicas / Troubleshooting\n",
    "- **Erro de schema Delta**: use `mergeSchema=true` ou `DROP TABLE` antes de gravar.  \n",
    "- **Datas inválidas**: `try_to_timestamp` evita falhas e retorna `NULL`; verifique `raw_date_str` se muitos nulos surgirem.  \n",
    "- **Valores nulos**: confira contagens por coluna para validar a limpeza antes da Gold.\n",
    "\n"
   ]
  },
  {
   "cell_type": "code",
   "execution_count": 0,
   "metadata": {
    "application/vnd.databricks.v1+cell": {
     "cellMetadata": {
      "byteLimit": 2048000,
      "rowLimit": 10000
     },
     "inputWidgets": {},
     "nuid": "f82b763d-f0fd-4451-be60-f754fb45b963",
     "showTitle": false,
     "tableResultSettingsMap": {},
     "title": ""
    }
   },
   "outputs": [
    {
     "output_type": "stream",
     "name": "stdout",
     "output_type": "stream",
     "text": [
      "✅ Silver criada: silver_finance\n"
     ]
    },
    {
     "output_type": "display_data",
     "data": {
      "text/html": [
       "<style scoped>\n",
       "  .table-result-container {\n",
       "    max-height: 300px;\n",
       "    overflow: auto;\n",
       "  }\n",
       "  table, th, td {\n",
       "    border: 1px solid black;\n",
       "    border-collapse: collapse;\n",
       "  }\n",
       "  th, td {\n",
       "    padding: 5px;\n",
       "  }\n",
       "  th {\n",
       "    text-align: left;\n",
       "  }\n",
       "</style><div class='table-result-container'><table class='table-result'><thead style='background-color: white'><tr><th>trade_date</th><th>open</th><th>high</th><th>low</th><th>close</th><th>adj_close</th><th>volume</th><th>ticker</th><th>company_name</th><th>isin</th><th>sector</th><th>industry</th><th>exchange</th><th>currency</th><th>country</th><th>shares_outstanding</th><th>market_cap</th><th>data_criacao</th></tr></thead><tbody><tr><td>2025-06-16T00:00:00.000Z</td><td>52.34</td><td>52.38</td><td>52.17</td><td>5231.0</td><td>52.31</td><td>180516</td><td>ITUB4.SA</td><td>Itaú Unibanco PN</td><td>BRITUBACNPR1</td><td>FINANCIALS</td><td>BANKS</td><td>B3</td><td>BRL</td><td>BR</td><td>10400000000</td><td>5.44024E11</td><td>2025-10-18T13:13:19.734Z</td></tr><tr><td>2025-06-16T00:00:00.000Z</td><td>60.64</td><td>60.86</td><td>60.38</td><td>6070.0</td><td>60.7</td><td>5830771</td><td>PETR4.SA</td><td>Petrobras PN</td><td>BRPETRACNPR6</td><td>ENERGY</td><td>OIL & GAS</td><td>B3</td><td>BRL</td><td>BR</td><td>13050000000</td><td>7.92135E11</td><td>2025-10-18T13:13:19.734Z</td></tr><tr><td>2025-06-16T00:00:00.000Z</td><td>39.44</td><td>39.57</td><td>39.19</td><td>3933.0</td><td>39.33</td><td>4329341</td><td>VALE3.SA</td><td>Vale ON</td><td>BRVALEACNOR0</td><td>MATERIALS</td><td>METALS & MINING</td><td>B3</td><td>BRL</td><td>BR</td><td>4500000000</td><td>1.76985E11</td><td>2025-10-18T13:13:19.734Z</td></tr><tr><td>2025-06-16T00:00:00.000Z</td><td>91.8</td><td>92.19</td><td>91.31</td><td>9202.0</td><td>92.02</td><td>8006801</td><td>WEGE3.SA</td><td>WEG ON</td><td>BRWEGEACNOR0</td><td>INDUSTRIALS</td><td>ELECTRICAL EQUIPMENT</td><td>B3</td><td>BRL</td><td>BR</td><td>4200000000</td><td>3.86484E11</td><td>2025-10-18T13:13:19.734Z</td></tr><tr><td>2025-06-16T00:00:00.000Z</td><td>66.69</td><td>67.12</td><td>66.43</td><td>6674.0</td><td>66.74</td><td>3769430</td><td>^BVSP</td><td>Ibovespa Index</td><td>null</td><td>ENERGY</td><td>BENCHMARK</td><td>B3</td><td>BRL</td><td>BR</td><td>0</td><td>0.0</td><td>2025-10-18T13:13:19.734Z</td></tr><tr><td>2025-06-17T00:00:00.000Z</td><td>53.11</td><td>53.33</td><td>52.73</td><td>5284.0</td><td>52.84</td><td>3777173</td><td>ITUB4.SA</td><td>Itaú Unibanco PN</td><td>BRITUBACNPR1</td><td>FINANCIALS</td><td>BANKS</td><td>B3</td><td>BRL</td><td>BR</td><td>10400000000</td><td>5.4953600000000006E11</td><td>2025-10-18T13:13:19.734Z</td></tr><tr><td>2025-06-17T00:00:00.000Z</td><td>60.6</td><td>60.79</td><td>60.48</td><td>6065.0</td><td>60.65</td><td>3516583</td><td>PETR4.SA</td><td>Petrobras PN</td><td>BRPETRACNPR6</td><td>ENERGY</td><td>OIL & GAS</td><td>B3</td><td>BRL</td><td>BR</td><td>13050000000</td><td>7.914825E11</td><td>2025-10-18T13:13:19.734Z</td></tr><tr><td>2025-06-17T00:00:00.000Z</td><td>39.08</td><td>39.2</td><td>38.79</td><td>3913.0</td><td>39.13</td><td>5263958</td><td>VALE3.SA</td><td>Vale ON</td><td>BRVALEACNOR0</td><td>MATERIALS</td><td>METALS & MINING</td><td>B3</td><td>BRL</td><td>BR</td><td>4500000000</td><td>1.76085E11</td><td>2025-10-18T13:13:19.734Z</td></tr><tr><td>2025-06-17T00:00:00.000Z</td><td>94.49</td><td>94.63</td><td>93.97</td><td>9410.0</td><td>94.1</td><td>5564887</td><td>WEGE3.SA</td><td>WEG ON</td><td>BRWEGEACNOR0</td><td>INDUSTRIALS</td><td>ELECTRICAL EQUIPMENT</td><td>B3</td><td>BRL</td><td>BR</td><td>4200000000</td><td>3.9522E11</td><td>2025-10-18T13:13:19.734Z</td></tr><tr><td>2025-06-17T00:00:00.000Z</td><td>66.4</td><td>66.67</td><td>66.26</td><td>6658.0</td><td>66.58</td><td>4912106</td><td>^BVSP</td><td>Ibovespa Index</td><td>null</td><td>ENERGY</td><td>BENCHMARK</td><td>B3</td><td>BRL</td><td>BR</td><td>0</td><td>0.0</td><td>2025-10-18T13:13:19.734Z</td></tr><tr><td>2025-06-18T00:00:00.000Z</td><td>52.05</td><td>52.06</td><td>51.96</td><td>5205.0</td><td>52.05</td><td>2261921</td><td>ITUB4.SA</td><td>Itaú Unibanco PN</td><td>BRITUBACNPR1</td><td>FINANCIALS</td><td>BANKS</td><td>B3</td><td>BRL</td><td>BR</td><td>10400000000</td><td>5.4132E11</td><td>2025-10-18T13:13:19.734Z</td></tr><tr><td>2025-06-18T00:00:00.000Z</td><td>59.7</td><td>59.93</td><td>59.5</td><td>5985.0</td><td>59.85</td><td>1255434</td><td>PETR4.SA</td><td>Petrobras PN</td><td>BRPETRACNPR6</td><td>ENERGY</td><td>OIL & GAS</td><td>B3</td><td>BRL</td><td>BR</td><td>13050000000</td><td>7.810425E11</td><td>2025-10-18T13:13:19.734Z</td></tr></tbody></table></div>"
      ]
     },
     "metadata": {
      "application/vnd.databricks.v1+output": {
       "addedWidgets": {},
       "aggData": [],
       "aggError": "",
       "aggOverflow": false,
       "aggSchema": [],
       "aggSeriesLimitReached": false,
       "aggType": "",
       "arguments": {},
       "columnCustomDisplayInfos": {},
       "data": [
        [
         "2025-06-16T00:00:00.000Z",
         52.34,
         52.38,
         52.17,
         5231.0,
         52.31,
         180516,
         "ITUB4.SA",
         "Itaú Unibanco PN",
         "BRITUBACNPR1",
         "FINANCIALS",
         "BANKS",
         "B3",
         "BRL",
         "BR",
         10400000000,
         5.44024E11,
         "2025-10-18T13:13:19.734Z"
        ],
        [
         "2025-06-16T00:00:00.000Z",
         60.64,
         60.86,
         60.38,
         6070.0,
         60.7,
         5830771,
         "PETR4.SA",
         "Petrobras PN",
         "BRPETRACNPR6",
         "ENERGY",
         "OIL & GAS",
         "B3",
         "BRL",
         "BR",
         13050000000,
         7.92135E11,
         "2025-10-18T13:13:19.734Z"
        ],
        [
         "2025-06-16T00:00:00.000Z",
         39.44,
         39.57,
         39.19,
         3933.0,
         39.33,
         4329341,
         "VALE3.SA",
         "Vale ON",
         "BRVALEACNOR0",
         "MATERIALS",
         "METALS & MINING",
         "B3",
         "BRL",
         "BR",
         4500000000,
         1.76985E11,
         "2025-10-18T13:13:19.734Z"
        ],
        [
         "2025-06-16T00:00:00.000Z",
         91.8,
         92.19,
         91.31,
         9202.0,
         92.02,
         8006801,
         "WEGE3.SA",
         "WEG ON",
         "BRWEGEACNOR0",
         "INDUSTRIALS",
         "ELECTRICAL EQUIPMENT",
         "B3",
         "BRL",
         "BR",
         4200000000,
         3.86484E11,
         "2025-10-18T13:13:19.734Z"
        ],
        [
         "2025-06-16T00:00:00.000Z",
         66.69,
         67.12,
         66.43,
         6674.0,
         66.74,
         3769430,
         "^BVSP",
         "Ibovespa Index",
         null,
         "ENERGY",
         "BENCHMARK",
         "B3",
         "BRL",
         "BR",
         0,
         0.0,
         "2025-10-18T13:13:19.734Z"
        ],
        [
         "2025-06-17T00:00:00.000Z",
         53.11,
         53.33,
         52.73,
         5284.0,
         52.84,
         3777173,
         "ITUB4.SA",
         "Itaú Unibanco PN",
         "BRITUBACNPR1",
         "FINANCIALS",
         "BANKS",
         "B3",
         "BRL",
         "BR",
         10400000000,
         5.4953600000000006E11,
         "2025-10-18T13:13:19.734Z"
        ],
        [
         "2025-06-17T00:00:00.000Z",
         60.6,
         60.79,
         60.48,
         6065.0,
         60.65,
         3516583,
         "PETR4.SA",
         "Petrobras PN",
         "BRPETRACNPR6",
         "ENERGY",
         "OIL & GAS",
         "B3",
         "BRL",
         "BR",
         13050000000,
         7.914825E11,
         "2025-10-18T13:13:19.734Z"
        ],
        [
         "2025-06-17T00:00:00.000Z",
         39.08,
         39.2,
         38.79,
         3913.0,
         39.13,
         5263958,
         "VALE3.SA",
         "Vale ON",
         "BRVALEACNOR0",
         "MATERIALS",
         "METALS & MINING",
         "B3",
         "BRL",
         "BR",
         4500000000,
         1.76085E11,
         "2025-10-18T13:13:19.734Z"
        ],
        [
         "2025-06-17T00:00:00.000Z",
         94.49,
         94.63,
         93.97,
         9410.0,
         94.1,
         5564887,
         "WEGE3.SA",
         "WEG ON",
         "BRWEGEACNOR0",
         "INDUSTRIALS",
         "ELECTRICAL EQUIPMENT",
         "B3",
         "BRL",
         "BR",
         4200000000,
         3.9522E11,
         "2025-10-18T13:13:19.734Z"
        ],
        [
         "2025-06-17T00:00:00.000Z",
         66.4,
         66.67,
         66.26,
         6658.0,
         66.58,
         4912106,
         "^BVSP",
         "Ibovespa Index",
         null,
         "ENERGY",
         "BENCHMARK",
         "B3",
         "BRL",
         "BR",
         0,
         0.0,
         "2025-10-18T13:13:19.734Z"
        ],
        [
         "2025-06-18T00:00:00.000Z",
         52.05,
         52.06,
         51.96,
         5205.0,
         52.05,
         2261921,
         "ITUB4.SA",
         "Itaú Unibanco PN",
         "BRITUBACNPR1",
         "FINANCIALS",
         "BANKS",
         "B3",
         "BRL",
         "BR",
         10400000000,
         5.4132E11,
         "2025-10-18T13:13:19.734Z"
        ],
        [
         "2025-06-18T00:00:00.000Z",
         59.7,
         59.93,
         59.5,
         5985.0,
         59.85,
         1255434,
         "PETR4.SA",
         "Petrobras PN",
         "BRPETRACNPR6",
         "ENERGY",
         "OIL & GAS",
         "B3",
         "BRL",
         "BR",
         13050000000,
         7.810425E11,
         "2025-10-18T13:13:19.734Z"
        ]
       ],
       "datasetInfos": [],
       "dbfsResultPath": null,
       "isJsonSchema": true,
       "metadata": {},
       "overflow": false,
       "plotOptions": {
        "customPlotOptions": {},
        "displayType": "table",
        "pivotAggregation": null,
        "pivotColumns": null,
        "xColumns": null,
        "yColumns": null
       },
       "removedWidgets": [],
       "schema": [
        {
         "metadata": "{}",
         "name": "trade_date",
         "type": "\"timestamp\""
        },
        {
         "metadata": "{}",
         "name": "open",
         "type": "\"double\""
        },
        {
         "metadata": "{}",
         "name": "high",
         "type": "\"double\""
        },
        {
         "metadata": "{}",
         "name": "low",
         "type": "\"double\""
        },
        {
         "metadata": "{}",
         "name": "close",
         "type": "\"double\""
        },
        {
         "metadata": "{}",
         "name": "adj_close",
         "type": "\"double\""
        },
        {
         "metadata": "{}",
         "name": "volume",
         "type": "\"long\""
        },
        {
         "metadata": "{}",
         "name": "ticker",
         "type": "\"string\""
        },
        {
         "metadata": "{}",
         "name": "company_name",
         "type": "\"string\""
        },
        {
         "metadata": "{}",
         "name": "isin",
         "type": "\"string\""
        },
        {
         "metadata": "{}",
         "name": "sector",
         "type": "\"string\""
        },
        {
         "metadata": "{}",
         "name": "industry",
         "type": "\"string\""
        },
        {
         "metadata": "{}",
         "name": "exchange",
         "type": "\"string\""
        },
        {
         "metadata": "{}",
         "name": "currency",
         "type": "\"string\""
        },
        {
         "metadata": "{}",
         "name": "country",
         "type": "\"string\""
        },
        {
         "metadata": "{}",
         "name": "shares_outstanding",
         "type": "\"long\""
        },
        {
         "metadata": "{}",
         "name": "market_cap",
         "type": "\"double\""
        },
        {
         "metadata": "{}",
         "name": "data_criacao",
         "type": "\"timestamp\""
        }
       ],
       "type": "table"
      }
     },
     "output_type": "display_data"
    }
   ],
   "source": [
    "# ╔══════════════════════════════════════════════════════════════╗\n",
    "# ║ 3.x) Silver — normalização, tipagem, dedupe, data_criacao    ║\n",
    "# ╚══════════════════════════════════════════════════════════════╝\n",
    "from pyspark.sql import functions as F\n",
    "from pyspark.sql.window import Window\n",
    "\n",
    "landing_tbl = \"landing_zone_finance\"\n",
    "silver_tbl  = \"silver_finance\"\n",
    "\n",
    "df = spark.table(landing_tbl)\n",
    "\n",
    "# ------------------ helpers ------------------\n",
    "def parse_amount_str(colname: str):\n",
    "    \"\"\"\n",
    "    Converte strings numéricas com separadores/virgula decimal:\n",
    "      \"5.234,10\" -> 5234.10 ; \"5,234.10\" -> 5234.10 ; \"5234\" -> 5234.0\n",
    "    \"\"\"\n",
    "    col = F.col(colname)\n",
    "    col = F.regexp_replace(col, r\"[ ]\", \"\")\n",
    "    # remove separador de milhar (ponto) quando vier no formato pt-BR\n",
    "    col = F.regexp_replace(col, r\"\\.\", \"\")\n",
    "    # vírgula vira ponto (decimal)\n",
    "    col = F.regexp_replace(col, r\",\", \".\")\n",
    "    return col.cast(\"double\")\n",
    "\n",
    "def parse_intlike_str(colname: str):\n",
    "    \"\"\"\n",
    "    Converte strings de inteiros com separadores para long:\n",
    "      \"5,234,000\" | \"5.234.000\" | \"5 234 000\" -> 5234000\n",
    "    \"\"\"\n",
    "    col = F.col(colname)\n",
    "    col = F.regexp_replace(col, r\"[,. ]\", \"\")\n",
    "    return col.cast(\"long\")\n",
    "\n",
    "# ------------------ normalizações ------------------\n",
    "\n",
    "# TICKER: coalesce raw->limpo; trim/upper; remove espaços internos; acrescenta .SA p/ papeis BR sem sufixo (não aplica em índices ^)\n",
    "ticker_base = F.upper(F.regexp_replace(F.trim(F.coalesce(F.col(\"raw_ticker\"), F.col(\"ticker\"))), r\"\\s+\", \"\"))\n",
    "ticker_norm = (\n",
    "    F.when(ticker_base.startswith(\"^\"), ticker_base)  # índices (ex: ^BVSP)\n",
    "     .when(~ticker_base.endswith(\".SA\") & ticker_base.rlike(\"^[A-Z]{4}[0-9]{1}$\"),\n",
    "           F.concat(ticker_base, F.lit(\".SA\")))\n",
    "     .otherwise(ticker_base)\n",
    ")\n",
    "\n",
    "# SETOR\n",
    "sector_raw = F.coalesce(F.col(\"raw_sector\"), F.col(\"sector\"))\n",
    "sector_norm = F.upper(F.trim(sector_raw))\n",
    "sector_norm = (\n",
    "    F.when(sector_norm.rlike(\"^ENERGY\\\\s*$\"),       \"ENERGY\")\n",
    "     .when(sector_norm.rlike(\"^MATERIAIS$\"),        \"MATERIALS\")\n",
    "     .when(sector_norm.rlike(\"^FINANCIAL(S)?$\"),    \"FINANCIALS\")\n",
    "     .otherwise(sector_norm)\n",
    ")\n",
    "\n",
    "# CURRENCY\n",
    "currency_norm = F.upper(F.trim(F.coalesce(F.col(\"raw_currency\"), F.col(\"currency\"))))\n",
    "currency_norm = F.when(currency_norm.isin(\"R$\",\"BRL\",\"BRL \",\" BRL\",\" BRL \"), F.lit(\"BRL\")).otherwise(currency_norm)\n",
    "\n",
    "# EXCHANGE\n",
    "exchange_norm = F.upper(F.trim(F.coalesce(F.col(\"raw_exchange\"), F.col(\"exchange\"))))\n",
    "\n",
    "# COUNTRY\n",
    "country_norm = F.upper(F.trim(F.coalesce(F.col(\"raw_country\"), F.col(\"country\"))))\n",
    "country_norm = F.when(country_norm.isin(\"BR\",\"BRASIL\",\"br\",\"Br\",\"Brasil\"), F.lit(\"BR\")).otherwise(country_norm)\n",
    "\n",
    "# COMPANY\n",
    "company_name_norm = F.trim(F.regexp_replace(F.coalesce(F.col(\"raw_company_name\"), F.col(\"company_name\")), r\"\\s+\", \" \"))\n",
    "\n",
    "# Datas em múltiplos formatos com fallback (compatível com DB Community)\n",
    "date_try1 = F.expr(\"try_to_timestamp(raw_date_str, 'dd/MM/yyyy')\")\n",
    "date_try2 = F.expr(\"try_to_timestamp(raw_date_str, 'yyyy-MM-dd')\")\n",
    "date_try3 = F.expr(\"try_to_timestamp(raw_date_str, 'MM-dd-yyyy')\")\n",
    "trade_date_norm = F.coalesce(date_try1, date_try2, date_try3, F.col(\"trade_date\"))\n",
    "\n",
    "\n",
    "# VOLUME: prefere campos raw em string (talvez nulos), senão volume numérico da landing\n",
    "volume_norm = F.coalesce(\n",
    "    parse_intlike_str(\"raw_volume_maybe_null\"),\n",
    "    parse_intlike_str(\"raw_volume\"),\n",
    "    F.col(\"volume\").cast(\"long\")\n",
    ")\n",
    "\n",
    "# PREÇOS: usa string (raw_close_str) > numérico possivelmente negativo (raw_close_maybe_neg) > close\n",
    "close_from_raw = F.coalesce(\n",
    "    parse_amount_str(\"raw_close_str\"),\n",
    "    F.col(\"raw_close_maybe_neg\").cast(\"double\"),\n",
    "    F.col(\"close\").cast(\"double\")\n",
    ")\n",
    "close_norm = F.when(close_from_raw <= 0, F.abs(close_from_raw)).otherwise(close_from_raw)\n",
    "\n",
    "open_norm      = F.col(\"open\").cast(\"double\")\n",
    "high_norm      = F.col(\"high\").cast(\"double\")\n",
    "low_norm       = F.col(\"low\").cast(\"double\")\n",
    "adj_close_norm = F.coalesce(F.col(\"adj_close\").cast(\"double\"), close_norm)\n",
    "\n",
    "shares_outstanding_norm = F.col(\"shares_outstanding\").cast(\"long\")\n",
    "market_cap_norm         = F.col(\"market_cap\").cast(\"double\")\n",
    "\n",
    "# ------------------ montagem silver ------------------\n",
    "df_silver = (\n",
    "    df.select(\n",
    "        trade_date_norm.alias(\"trade_date\"),\n",
    "        open_norm.alias(\"open\"),\n",
    "        high_norm.alias(\"high\"),\n",
    "        low_norm.alias(\"low\"),\n",
    "        close_norm.alias(\"close\"),\n",
    "        adj_close_norm.alias(\"adj_close\"),\n",
    "        volume_norm.alias(\"volume\"),\n",
    "        ticker_norm.alias(\"ticker\"),\n",
    "        company_name_norm.alias(\"company_name\"),\n",
    "        F.col(\"isin\").alias(\"isin\"),\n",
    "        sector_norm.alias(\"sector\"),\n",
    "        F.upper(F.trim(F.col(\"industry\"))).alias(\"industry\"),\n",
    "        exchange_norm.alias(\"exchange\"),\n",
    "        currency_norm.alias(\"currency\"),\n",
    "        country_norm.alias(\"country\"),\n",
    "        shares_outstanding_norm.alias(\"shares_outstanding\"),\n",
    "        market_cap_norm.alias(\"market_cap\"),\n",
    "        F.current_timestamp().alias(\"data_criacao\"),\n",
    "        F.col(\"_ingest_ts\")\n",
    "    )\n",
    "    # descarte registros sem trade_date ou ticker após normalização\n",
    "    .filter(F.col(\"trade_date\").isNotNull() & F.col(\"ticker\").isNotNull())\n",
    ")\n",
    "\n",
    "# ------------------ deduplicação ------------------\n",
    "# chave: (ticker, trade_date); mantém o mais recente por _ingest_ts\n",
    "w_dedupe = Window.partitionBy(F.col(\"ticker\"), F.col(\"trade_date\")).orderBy(F.col(\"_ingest_ts\").desc_nulls_last())\n",
    "df_silver = df_silver.withColumn(\"__rn\", F.row_number().over(w_dedupe)).filter(F.col(\"__rn\") == 1).drop(\"__rn\",\"_ingest_ts\")\n",
    "\n",
    "# defaults finais\n",
    "df_silver = (\n",
    "    df_silver\n",
    "    .withColumn(\"currency\", F.coalesce(F.col(\"currency\"), F.lit(\"BRL\")))\n",
    "    .withColumn(\"exchange\", F.coalesce(F.col(\"exchange\"), F.lit(\"B3\")))\n",
    "    .withColumn(\"country\",  F.coalesce(F.col(\"country\"),  F.lit(\"BR\")))\n",
    ")\n",
    "\n",
    "# ------------------ gravação ------------------\n",
    "spark.sql(f\"DROP TABLE IF EXISTS {silver_tbl}\")\n",
    "\n",
    "df_silver.write \\\n",
    "    .format(\"delta\") \\\n",
    "    .mode(\"overwrite\") \\\n",
    "    .saveAsTable(silver_tbl)\n",
    "\n",
    "print(\"✅ Silver criada:\", silver_tbl)\n",
    "display(spark.table(silver_tbl).orderBy(\"trade_date\",\"ticker\").limit(12))\n"
   ]
  },
  {
   "cell_type": "markdown",
   "metadata": {
    "application/vnd.databricks.v1+cell": {
     "cellMetadata": {
      "byteLimit": 2048000,
      "rowLimit": 10000
     },
     "inputWidgets": {},
     "nuid": "7652248c-c73b-440d-9afb-08965c9d2aae",
     "showTitle": false,
     "tableResultSettingsMap": {},
     "title": ""
    }
   },
   "source": [
    "# \uD83D\uDFE1 Gold (Fatos & Dimensões a partir da Silver)\n",
    "\n",
    "## Objetivo\n",
    "Materializar o **modelo analítico (camada Gold)** a partir da tabela `silver_finance`, separando:\n",
    "- **Dimensões**: tabelas de referência (atributos de contexto, cadastros, tempo);\n",
    "- **Fatos**: tabelas de medidas numéricas, prontas para agregações e análise em BI.\n",
    "\n",
    "Essa camada consolida o pipeline Medallion e representa o ponto de consumo principal para relatórios, dashboards e modelos de machine learning.\n",
    "\n",
    "---\n",
    "\n",
    "## O que este código faz\n",
    "\n",
    "### \uD83D\uDD39 Dimensões\n",
    "- **`dim_ticker`** → catálogo de ativos/empresas:  \n",
    "  contém `ticker`, `company_name`, `isin`, `sector`, `industry`, `exchange`, `currency`, `country`, `shares_outstanding` e um carimbo técnico `dim_load_ts`.\n",
    "\n",
    "- **`dim_sector_industry`** → lista única de setores e indústrias disponíveis.\n",
    "\n",
    "- **`dim_exchange`** → mapeia bolsas de valores (`exchange`), países (`country`) e moedas (`currency`).\n",
    "\n",
    "- **`dim_currency`** → lista de moedas disponíveis e seus países associados.\n",
    "\n",
    "- **`dim_date`** → calendário derivado de `trade_date`, com colunas de tempo para análise:\n",
    "  - `date_key` (formato `yyyyMMdd`) — chave para joins eficientes;\n",
    "  - `year`, `quarter`, `month`, `weekofyear`, `day`, `dow`;\n",
    "  - flags: `month_end`, `quarter_end`;\n",
    "  - carimbo `dim_load_ts`.\n",
    "\n",
    "---\n",
    "\n",
    "### \uD83D\uDD38 Fatos\n",
    "- **`fato_precos`** → fato principal de preços (OHLCV):\n",
    "  - Chaves: `trade_date`, `date_key`, `ticker`\n",
    "  - Medidas: `open`, `high`, `low`, `close`, `adj_close`, `volume`\n",
    "\n",
    "- **`fato_marketcap`** → fato de valor de mercado:\n",
    "  - Chaves: `trade_date`, `date_key`, `ticker`\n",
    "  - Medida: `market_cap`\n",
    "  - *Fallback*: se o campo vier nulo, calcula `close * shares_outstanding`.\n",
    "\n",
    "---\n",
    "\n",
    "## \uD83D\uDD17 Chaves e junções recomendadas\n",
    "- **Tempo**: `fato_*.date_key` = `dim_date.date_key`  \n",
    "- **Ativo**: `fato_*.ticker` = `dim_ticker.ticker`  \n",
    "- **Atributos adicionais**: via `ticker` → traz `sector`, `industry`, `company_name`  \n",
    "- **Moeda/Bolsa**: `currency` = `dim_currency.currency`, `exchange` = `dim_exchange.exchange`\n",
    "\n",
    "Essas chaves seguem o padrão **estrela (Star Schema)**, ideal para análises de BI.\n",
    "\n",
    "---\n",
    "\n",
    "## ⚙️ Boas práticas aplicadas\n",
    "- **Drop & overwrite durante desenvolvimento:** garante schemas limpos e previsíveis a cada execução.  \n",
    "- **Tipagem explícita:** converte medidas para `double` e contagens para `long`, garantindo consistência entre camadas.  \n",
    "- **Data key (`date_key`):** cria uma chave de tempo numérica eficiente (`yyyyMMdd`) para *joins* rápidos com `dim_date`.  \n",
    "- **Separação de fatos e dimensões:** facilita governança, reutilização e modelagem sem redundância.\n",
    "\n",
    "---\n",
    "\n",
    "## \uD83D\uDCCA Possibilidades de análise\n",
    "- Evolução de preços (linha temporal): `fato_precos` + `dim_date`.  \n",
    "- Comparativos entre empresas e setores: `fato_precos` + `dim_ticker`.  \n",
    "- Análises por bolsa ou moeda: `fato_precos` + `dim_exchange` / `dim_currency`.  \n",
    "- Ranking de desempenho ou valor de mercado: `fato_marketcap` + `dim_ticker`.\n",
    "\n",
    "---\n",
    "\n",
    "## \uD83E\uDDED Resultado final\n",
    "Cria as seguintes tabelas no metastore:\n",
    "- Dimensões:  \n",
    "  `dim_ticker`, `dim_sector_industry`, `dim_exchange`, `dim_currency`, `dim_date`\n",
    "- Fatos:  \n",
    "  `fato_precos`, `fato_marketcap`\n",
    "\n",
    "Essas tabelas formam a base da **camada Gold** — **dados prontos para BI, dashboards e indicadores de negócio**.\n"
   ]
  },
  {
   "cell_type": "code",
   "execution_count": 0,
   "metadata": {
    "application/vnd.databricks.v1+cell": {
     "cellMetadata": {
      "byteLimit": 2048000,
      "rowLimit": 10000
     },
     "inputWidgets": {},
     "nuid": "34d0f834-848a-4c59-91ac-97bfc50a9512",
     "showTitle": false,
     "tableResultSettingsMap": {},
     "title": ""
    }
   },
   "outputs": [
    {
     "output_type": "stream",
     "name": "stdout",
     "output_type": "stream",
     "text": [
      "✅ Dimensões e Fatos criados:\n - dim_ticker, dim_sector_industry, dim_exchange, dim_currency, dim_date\n - fato_precos, fato_marketcap\n"
     ]
    },
    {
     "output_type": "display_data",
     "data": {
      "text/html": [
       "<style scoped>\n",
       "  .table-result-container {\n",
       "    max-height: 300px;\n",
       "    overflow: auto;\n",
       "  }\n",
       "  table, th, td {\n",
       "    border: 1px solid black;\n",
       "    border-collapse: collapse;\n",
       "  }\n",
       "  th, td {\n",
       "    padding: 5px;\n",
       "  }\n",
       "  th {\n",
       "    text-align: left;\n",
       "  }\n",
       "</style><div class='table-result-container'><table class='table-result'><thead style='background-color: white'><tr><th>trade_date</th><th>date_key</th><th>ticker</th><th>open</th><th>high</th><th>low</th><th>close</th><th>adj_close</th><th>volume</th></tr></thead><tbody><tr><td>2025-06-16T00:00:00.000Z</td><td>20250616</td><td>ITUB4.SA</td><td>52.34</td><td>52.38</td><td>52.17</td><td>5231.0</td><td>52.31</td><td>180516</td></tr><tr><td>2025-06-16T00:00:00.000Z</td><td>20250616</td><td>PETR4.SA</td><td>60.64</td><td>60.86</td><td>60.38</td><td>6070.0</td><td>60.7</td><td>5830771</td></tr><tr><td>2025-06-16T00:00:00.000Z</td><td>20250616</td><td>VALE3.SA</td><td>39.44</td><td>39.57</td><td>39.19</td><td>3933.0</td><td>39.33</td><td>4329341</td></tr><tr><td>2025-06-16T00:00:00.000Z</td><td>20250616</td><td>WEGE3.SA</td><td>91.8</td><td>92.19</td><td>91.31</td><td>9202.0</td><td>92.02</td><td>8006801</td></tr><tr><td>2025-06-16T00:00:00.000Z</td><td>20250616</td><td>^BVSP</td><td>66.69</td><td>67.12</td><td>66.43</td><td>6674.0</td><td>66.74</td><td>3769430</td></tr><tr><td>2025-06-17T00:00:00.000Z</td><td>20250617</td><td>ITUB4.SA</td><td>53.11</td><td>53.33</td><td>52.73</td><td>5284.0</td><td>52.84</td><td>3777173</td></tr><tr><td>2025-06-17T00:00:00.000Z</td><td>20250617</td><td>PETR4.SA</td><td>60.6</td><td>60.79</td><td>60.48</td><td>6065.0</td><td>60.65</td><td>3516583</td></tr><tr><td>2025-06-17T00:00:00.000Z</td><td>20250617</td><td>VALE3.SA</td><td>39.08</td><td>39.2</td><td>38.79</td><td>3913.0</td><td>39.13</td><td>5263958</td></tr><tr><td>2025-06-17T00:00:00.000Z</td><td>20250617</td><td>WEGE3.SA</td><td>94.49</td><td>94.63</td><td>93.97</td><td>9410.0</td><td>94.1</td><td>5564887</td></tr><tr><td>2025-06-17T00:00:00.000Z</td><td>20250617</td><td>^BVSP</td><td>66.4</td><td>66.67</td><td>66.26</td><td>6658.0</td><td>66.58</td><td>4912106</td></tr></tbody></table></div>"
      ]
     },
     "metadata": {
      "application/vnd.databricks.v1+output": {
       "addedWidgets": {},
       "aggData": [],
       "aggError": "",
       "aggOverflow": false,
       "aggSchema": [],
       "aggSeriesLimitReached": false,
       "aggType": "",
       "arguments": {},
       "columnCustomDisplayInfos": {},
       "data": [
        [
         "2025-06-16T00:00:00.000Z",
         20250616,
         "ITUB4.SA",
         52.34,
         52.38,
         52.17,
         5231.0,
         52.31,
         180516
        ],
        [
         "2025-06-16T00:00:00.000Z",
         20250616,
         "PETR4.SA",
         60.64,
         60.86,
         60.38,
         6070.0,
         60.7,
         5830771
        ],
        [
         "2025-06-16T00:00:00.000Z",
         20250616,
         "VALE3.SA",
         39.44,
         39.57,
         39.19,
         3933.0,
         39.33,
         4329341
        ],
        [
         "2025-06-16T00:00:00.000Z",
         20250616,
         "WEGE3.SA",
         91.8,
         92.19,
         91.31,
         9202.0,
         92.02,
         8006801
        ],
        [
         "2025-06-16T00:00:00.000Z",
         20250616,
         "^BVSP",
         66.69,
         67.12,
         66.43,
         6674.0,
         66.74,
         3769430
        ],
        [
         "2025-06-17T00:00:00.000Z",
         20250617,
         "ITUB4.SA",
         53.11,
         53.33,
         52.73,
         5284.0,
         52.84,
         3777173
        ],
        [
         "2025-06-17T00:00:00.000Z",
         20250617,
         "PETR4.SA",
         60.6,
         60.79,
         60.48,
         6065.0,
         60.65,
         3516583
        ],
        [
         "2025-06-17T00:00:00.000Z",
         20250617,
         "VALE3.SA",
         39.08,
         39.2,
         38.79,
         3913.0,
         39.13,
         5263958
        ],
        [
         "2025-06-17T00:00:00.000Z",
         20250617,
         "WEGE3.SA",
         94.49,
         94.63,
         93.97,
         9410.0,
         94.1,
         5564887
        ],
        [
         "2025-06-17T00:00:00.000Z",
         20250617,
         "^BVSP",
         66.4,
         66.67,
         66.26,
         6658.0,
         66.58,
         4912106
        ]
       ],
       "datasetInfos": [],
       "dbfsResultPath": null,
       "isJsonSchema": true,
       "metadata": {},
       "overflow": false,
       "plotOptions": {
        "customPlotOptions": {},
        "displayType": "table",
        "pivotAggregation": null,
        "pivotColumns": null,
        "xColumns": null,
        "yColumns": null
       },
       "removedWidgets": [],
       "schema": [
        {
         "metadata": "{}",
         "name": "trade_date",
         "type": "\"timestamp\""
        },
        {
         "metadata": "{}",
         "name": "date_key",
         "type": "\"integer\""
        },
        {
         "metadata": "{}",
         "name": "ticker",
         "type": "\"string\""
        },
        {
         "metadata": "{}",
         "name": "open",
         "type": "\"double\""
        },
        {
         "metadata": "{}",
         "name": "high",
         "type": "\"double\""
        },
        {
         "metadata": "{}",
         "name": "low",
         "type": "\"double\""
        },
        {
         "metadata": "{}",
         "name": "close",
         "type": "\"double\""
        },
        {
         "metadata": "{}",
         "name": "adj_close",
         "type": "\"double\""
        },
        {
         "metadata": "{}",
         "name": "volume",
         "type": "\"long\""
        }
       ],
       "type": "table"
      }
     },
     "output_type": "display_data"
    }
   ],
   "source": [
    "# ╔══════════════════════════════════════════════════════════════╗\n",
    "# ║ 4.x) Gold — separar Silver em Fatos & Dimensões              ║\n",
    "# ╚══════════════════════════════════════════════════════════════╝\n",
    "from pyspark.sql import functions as F\n",
    "\n",
    "silver_tbl = \"silver_finance\"\n",
    "\n",
    "df = spark.table(silver_tbl)\n",
    "\n",
    "# -------------------- Dimensões --------------------\n",
    "\n",
    "# Dimensão de Ticker (cadastro do ativo/empresa)\n",
    "dim_ticker = (df\n",
    "  .select(\n",
    "      F.col(\"ticker\"),\n",
    "      F.col(\"company_name\"),\n",
    "      F.col(\"isin\"),\n",
    "      F.col(\"sector\"),\n",
    "      F.col(\"industry\"),\n",
    "      F.col(\"exchange\"),\n",
    "      F.col(\"currency\"),\n",
    "      F.col(\"country\"),\n",
    "      F.col(\"shares_outstanding\").cast(\"long\").alias(\"shares_outstanding\")\n",
    "  )\n",
    "  .dropDuplicates([\"ticker\"])\n",
    "  .withColumn(\"dim_load_ts\", F.current_timestamp())\n",
    ")\n",
    "spark.sql(\"DROP TABLE IF EXISTS dim_ticker\")\n",
    "dim_ticker.write.mode(\"overwrite\").saveAsTable(\"dim_ticker\")\n",
    "\n",
    "# Dimensão Setor/Indústria\n",
    "dim_sector_industry = (df\n",
    "  .select(\"sector\",\"industry\")\n",
    "  .dropDuplicates()\n",
    "  .withColumn(\"dim_load_ts\", F.current_timestamp())\n",
    ")\n",
    "spark.sql(\"DROP TABLE IF EXISTS dim_sector_industry\")\n",
    "dim_sector_industry.write.mode(\"overwrite\").saveAsTable(\"dim_sector_industry\")\n",
    "\n",
    "# Dimensão Exchange\n",
    "dim_exchange = (df\n",
    "  .select(\"exchange\",\"country\",\"currency\")\n",
    "  .dropDuplicates()\n",
    "  .withColumn(\"dim_load_ts\", F.current_timestamp())\n",
    ")\n",
    "spark.sql(\"DROP TABLE IF EXISTS dim_exchange\")\n",
    "dim_exchange.write.mode(\"overwrite\").saveAsTable(\"dim_exchange\")\n",
    "\n",
    "# Dimensão Currency\n",
    "dim_currency = (df\n",
    "  .select(\"currency\",\"country\")\n",
    "  .dropDuplicates()\n",
    "  .withColumn(\"dim_load_ts\", F.current_timestamp())\n",
    ")\n",
    "spark.sql(\"DROP TABLE IF EXISTS dim_currency\")\n",
    "dim_currency.write.mode(\"overwrite\").saveAsTable(\"dim_currency\")\n",
    "\n",
    "# Dimensão Data\n",
    "dim_date = (df\n",
    "  .select(F.to_date(\"trade_date\").alias(\"date\"))\n",
    "  .dropDuplicates()\n",
    "  .withColumn(\"date_key\", F.date_format(\"date\",\"yyyyMMdd\").cast(\"int\"))\n",
    "  .withColumn(\"year\", F.year(\"date\"))\n",
    "  .withColumn(\"quarter\", F.quarter(\"date\"))\n",
    "  .withColumn(\"month\", F.month(\"date\"))\n",
    "  .withColumn(\"day\", F.dayofmonth(\"date\"))\n",
    "  .withColumn(\"dow\", F.date_format(\"date\",\"E\"))\n",
    "  .withColumn(\"weekofyear\", F.weekofyear(\"date\"))\n",
    "  .withColumn(\"month_end\", F.expr(\"last_day(date) = date\"))\n",
    "  .withColumn(\"quarter_end\", F.expr(\"last_day(add_months(trunc(date, 'MM'), 2)) = date\"))\n",
    "  .withColumn(\"dim_load_ts\", F.current_timestamp())\n",
    ")\n",
    "spark.sql(\"DROP TABLE IF EXISTS dim_date\")\n",
    "dim_date.write.mode(\"overwrite\").saveAsTable(\"dim_date\")\n",
    "\n",
    "# -------------------- Fatos --------------------\n",
    "\n",
    "# chave de data (yyyyMMdd) para junção com dim_date\n",
    "date_key_col = F.date_format(F.to_date(\"trade_date\"), \"yyyyMMdd\").cast(\"int\")\n",
    "\n",
    "# Fato de Preços (OHLCV)\n",
    "fato_precos = (df\n",
    "  .select(\n",
    "      F.col(\"trade_date\"),\n",
    "      date_key_col.alias(\"date_key\"),\n",
    "      F.col(\"ticker\"),\n",
    "      F.col(\"open\").cast(\"double\").alias(\"open\"),\n",
    "      F.col(\"high\").cast(\"double\").alias(\"high\"),\n",
    "      F.col(\"low\").cast(\"double\").alias(\"low\"),\n",
    "      F.col(\"close\").cast(\"double\").alias(\"close\"),\n",
    "      F.col(\"adj_close\").cast(\"double\").alias(\"adj_close\"),\n",
    "      F.col(\"volume\").cast(\"long\").alias(\"volume\")\n",
    "  )\n",
    ")\n",
    "spark.sql(\"DROP TABLE IF EXISTS fato_precos\")\n",
    "fato_precos.write.mode(\"overwrite\").saveAsTable(\"fato_precos\")\n",
    "\n",
    "# Fato de Market Cap (com fallback: close * shares_outstanding)\n",
    "mcap = F.coalesce(F.col(\"market_cap\").cast(\"double\"),\n",
    "                  (F.col(\"close\").cast(\"double\") * F.col(\"shares_outstanding\").cast(\"double\")))\n",
    "fato_marketcap = (df\n",
    "  .select(\n",
    "      F.col(\"trade_date\"),\n",
    "      date_key_col.alias(\"date_key\"),\n",
    "      F.col(\"ticker\"),\n",
    "      mcap.alias(\"market_cap\")\n",
    "  )\n",
    ")\n",
    "spark.sql(\"DROP TABLE IF EXISTS fato_marketcap\")\n",
    "fato_marketcap.write.mode(\"overwrite\").saveAsTable(\"fato_marketcap\")\n",
    "\n",
    "print(\"✅ Dimensões e Fatos criados:\")\n",
    "print(\" - dim_ticker, dim_sector_industry, dim_exchange, dim_currency, dim_date\")\n",
    "print(\" - fato_precos, fato_marketcap\")\n",
    "\n",
    "# peek\n",
    "display(spark.table(\"fato_precos\").orderBy(\"trade_date\",\"ticker\").limit(10))\n"
   ]
  },
  {
   "cell_type": "markdown",
   "metadata": {
    "application/vnd.databricks.v1+cell": {
     "cellMetadata": {},
     "inputWidgets": {},
     "nuid": "a3134672-f42d-4171-8d6f-fd5f43d8031a",
     "showTitle": false,
     "tableResultSettingsMap": {},
     "title": ""
    }
   },
   "source": [
    "\n",
    "## 5) Consultas de exemplo (KPIs / BI)\n"
   ]
  },
  {
   "cell_type": "markdown",
   "metadata": {
    "application/vnd.databricks.v1+cell": {
     "cellMetadata": {},
     "inputWidgets": {},
     "nuid": "b5431985-b695-459a-bea2-4574c0b04da9",
     "showTitle": false,
     "tableResultSettingsMap": {},
     "title": ""
    }
   },
   "source": [
    "1) Preço médio diário por ticker (últimos 30 dias)"
   ]
  },
  {
   "cell_type": "code",
   "execution_count": 0,
   "metadata": {
    "application/vnd.databricks.v1+cell": {
     "cellMetadata": {
      "byteLimit": 2048000,
      "implicitDf": true,
      "rowLimit": 10000
     },
     "inputWidgets": {},
     "nuid": "902d4f24-0d9d-41a2-beca-ebbc2bda53e5",
     "showTitle": false,
     "tableResultSettingsMap": {},
     "title": ""
    }
   },
   "outputs": [
    {
     "output_type": "display_data",
     "data": {
      "text/html": [
       "<style scoped>\n",
       "  .table-result-container {\n",
       "    max-height: 300px;\n",
       "    overflow: auto;\n",
       "  }\n",
       "  table, th, td {\n",
       "    border: 1px solid black;\n",
       "    border-collapse: collapse;\n",
       "  }\n",
       "  th, td {\n",
       "    padding: 5px;\n",
       "  }\n",
       "  th {\n",
       "    text-align: left;\n",
       "  }\n",
       "</style><div class='table-result-container'><table class='table-result'><thead style='background-color: white'><tr><th>dia</th><th>ticker</th><th>preco_medio</th></tr></thead><tbody><tr><td>2025-09-18</td><td>ITUB4.SA</td><td>6284.0</td></tr><tr><td>2025-09-18</td><td>PETR4.SA</td><td>5444.0</td></tr><tr><td>2025-09-18</td><td>VALE3.SA</td><td>3622.0</td></tr><tr><td>2025-09-18</td><td>WEGE3.SA</td><td>8900.0</td></tr><tr><td>2025-09-18</td><td>^BVSP</td><td>7569.0</td></tr><tr><td>2025-09-19</td><td>ITUB4.SA</td><td>6029.0</td></tr><tr><td>2025-09-19</td><td>PETR4.SA</td><td>5418.0</td></tr><tr><td>2025-09-19</td><td>VALE3.SA</td><td>3672.0</td></tr><tr><td>2025-09-19</td><td>WEGE3.SA</td><td>9130.0</td></tr><tr><td>2025-09-19</td><td>^BVSP</td><td>7666.0</td></tr><tr><td>2025-09-22</td><td>ITUB4.SA</td><td>6058.0</td></tr><tr><td>2025-09-22</td><td>PETR4.SA</td><td>5417.0</td></tr><tr><td>2025-09-22</td><td>VALE3.SA</td><td>3804.0</td></tr><tr><td>2025-09-22</td><td>WEGE3.SA</td><td>9561.0</td></tr><tr><td>2025-09-22</td><td>^BVSP</td><td>7564.0</td></tr><tr><td>2025-09-23</td><td>ITUB4.SA</td><td>6040.0</td></tr><tr><td>2025-09-23</td><td>PETR4.SA</td><td>5657.0</td></tr><tr><td>2025-09-23</td><td>VALE3.SA</td><td>3725.0</td></tr><tr><td>2025-09-23</td><td>WEGE3.SA</td><td>9646.0</td></tr><tr><td>2025-09-23</td><td>^BVSP</td><td>7497.0</td></tr><tr><td>2025-09-24</td><td>ITUB4.SA</td><td>6113.0</td></tr><tr><td>2025-09-24</td><td>PETR4.SA</td><td>5526.0</td></tr><tr><td>2025-09-24</td><td>VALE3.SA</td><td>3751.0</td></tr><tr><td>2025-09-24</td><td>WEGE3.SA</td><td>9785.0</td></tr><tr><td>2025-09-24</td><td>^BVSP</td><td>7256.0</td></tr><tr><td>2025-09-25</td><td>ITUB4.SA</td><td>5998.0</td></tr><tr><td>2025-09-25</td><td>PETR4.SA</td><td>5552.0</td></tr><tr><td>2025-09-25</td><td>VALE3.SA</td><td>3802.0</td></tr><tr><td>2025-09-25</td><td>WEGE3.SA</td><td>10179.0</td></tr><tr><td>2025-09-25</td><td>^BVSP</td><td>7385.0</td></tr><tr><td>2025-09-26</td><td>ITUB4.SA</td><td>5804.0</td></tr><tr><td>2025-09-26</td><td>PETR4.SA</td><td>5657.0</td></tr><tr><td>2025-09-26</td><td>VALE3.SA</td><td>3774.0</td></tr><tr><td>2025-09-26</td><td>WEGE3.SA</td><td>10485.0</td></tr><tr><td>2025-09-26</td><td>^BVSP</td><td>7601.0</td></tr><tr><td>2025-09-29</td><td>ITUB4.SA</td><td>5660.0</td></tr><tr><td>2025-09-29</td><td>PETR4.SA</td><td>5705.0</td></tr><tr><td>2025-09-29</td><td>VALE3.SA</td><td>3778.0</td></tr><tr><td>2025-09-29</td><td>WEGE3.SA</td><td>10543.0</td></tr><tr><td>2025-09-29</td><td>^BVSP</td><td>7588.0</td></tr><tr><td>2025-09-30</td><td>ITUB4.SA</td><td>5542.0</td></tr><tr><td>2025-09-30</td><td>PETR4.SA</td><td>5862.0</td></tr><tr><td>2025-09-30</td><td>VALE3.SA</td><td>3802.0</td></tr><tr><td>2025-09-30</td><td>WEGE3.SA</td><td>10835.0</td></tr><tr><td>2025-09-30</td><td>^BVSP</td><td>7649.0</td></tr><tr><td>2025-10-01</td><td>ITUB4.SA</td><td>5586.0</td></tr><tr><td>2025-10-01</td><td>PETR4.SA</td><td>5816.0</td></tr><tr><td>2025-10-01</td><td>VALE3.SA</td><td>3781.0</td></tr><tr><td>2025-10-01</td><td>WEGE3.SA</td><td>10666.0</td></tr><tr><td>2025-10-01</td><td>^BVSP</td><td>7466.0</td></tr><tr><td>2025-10-02</td><td>ITUB4.SA</td><td>5644.0</td></tr><tr><td>2025-10-02</td><td>PETR4.SA</td><td>5730.0</td></tr><tr><td>2025-10-02</td><td>VALE3.SA</td><td>3798.0</td></tr><tr><td>2025-10-02</td><td>WEGE3.SA</td><td>10722.0</td></tr><tr><td>2025-10-02</td><td>^BVSP</td><td>7750.0</td></tr><tr><td>2025-10-03</td><td>ITUB4.SA</td><td>5787.0</td></tr><tr><td>2025-10-03</td><td>PETR4.SA</td><td>5700.0</td></tr><tr><td>2025-10-03</td><td>VALE3.SA</td><td>3901.0</td></tr><tr><td>2025-10-03</td><td>WEGE3.SA</td><td>11032.0</td></tr><tr><td>2025-10-03</td><td>^BVSP</td><td>7827.0</td></tr><tr><td>2025-10-06</td><td>ITUB4.SA</td><td>5771.0</td></tr><tr><td>2025-10-06</td><td>PETR4.SA</td><td>5625.0</td></tr><tr><td>2025-10-06</td><td>VALE3.SA</td><td>3865.0</td></tr><tr><td>2025-10-06</td><td>WEGE3.SA</td><td>11008.0</td></tr><tr><td>2025-10-06</td><td>^BVSP</td><td>7996.0</td></tr><tr><td>2025-10-07</td><td>ITUB4.SA</td><td>5635.0</td></tr><tr><td>2025-10-07</td><td>PETR4.SA</td><td>5687.0</td></tr><tr><td>2025-10-07</td><td>VALE3.SA</td><td>3808.0</td></tr><tr><td>2025-10-07</td><td>WEGE3.SA</td><td>11255.0</td></tr><tr><td>2025-10-07</td><td>^BVSP</td><td>7875.0</td></tr><tr><td>2025-10-08</td><td>ITUB4.SA</td><td>5628.0</td></tr><tr><td>2025-10-08</td><td>PETR4.SA</td><td>5575.0</td></tr><tr><td>2025-10-08</td><td>VALE3.SA</td><td>3867.0</td></tr><tr><td>2025-10-08</td><td>WEGE3.SA</td><td>11471.0</td></tr><tr><td>2025-10-08</td><td>^BVSP</td><td>7798.0</td></tr><tr><td>2025-10-09</td><td>ITUB4.SA</td><td>5828.0</td></tr><tr><td>2025-10-09</td><td>PETR4.SA</td><td>5596.0</td></tr><tr><td>2025-10-09</td><td>VALE3.SA</td><td>3914.0</td></tr><tr><td>2025-10-09</td><td>WEGE3.SA</td><td>11633.0</td></tr><tr><td>2025-10-09</td><td>^BVSP</td><td>7902.0</td></tr><tr><td>2025-10-10</td><td>ITUB4.SA</td><td>5878.0</td></tr><tr><td>2025-10-10</td><td>PETR4.SA</td><td>5670.0</td></tr><tr><td>2025-10-10</td><td>VALE3.SA</td><td>3944.0</td></tr><tr><td>2025-10-10</td><td>WEGE3.SA</td><td>11459.0</td></tr><tr><td>2025-10-10</td><td>^BVSP</td><td>8042.0</td></tr><tr><td>2025-10-13</td><td>ITUB4.SA</td><td>5655.0</td></tr><tr><td>2025-10-13</td><td>PETR4.SA</td><td>5512.0</td></tr><tr><td>2025-10-13</td><td>VALE3.SA</td><td>3756.0</td></tr><tr><td>2025-10-13</td><td>WEGE3.SA</td><td>11468.0</td></tr><tr><td>2025-10-13</td><td>^BVSP</td><td>7924.0</td></tr><tr><td>2025-10-14</td><td>ITUB4.SA</td><td>5784.0</td></tr><tr><td>2025-10-14</td><td>PETR4.SA</td><td>5594.0</td></tr><tr><td>2025-10-14</td><td>VALE3.SA</td><td>3655.0</td></tr><tr><td>2025-10-14</td><td>WEGE3.SA</td><td>11582.0</td></tr><tr><td>2025-10-14</td><td>^BVSP</td><td>7947.0</td></tr><tr><td>2025-10-15</td><td>ITUB4.SA</td><td>5439.0</td></tr><tr><td>2025-10-15</td><td>PETR4.SA</td><td>5710.0</td></tr><tr><td>2025-10-15</td><td>VALE3.SA</td><td>3677.0</td></tr><tr><td>2025-10-15</td><td>WEGE3.SA</td><td>11572.0</td></tr><tr><td>2025-10-15</td><td>^BVSP</td><td>8102.0</td></tr><tr><td>2025-10-16</td><td>ITUB4.SA</td><td>5459.0</td></tr><tr><td>2025-10-16</td><td>PETR4.SA</td><td>5911.0</td></tr><tr><td>2025-10-16</td><td>VALE3.SA</td><td>3678.0</td></tr><tr><td>2025-10-16</td><td>WEGE3.SA</td><td>11339.0</td></tr><tr><td>2025-10-16</td><td>^BVSP</td><td>7901.0</td></tr><tr><td>2025-10-17</td><td>ITUB4.SA</td><td>5466.0</td></tr><tr><td>2025-10-17</td><td>PETR4.SA</td><td>5779.0</td></tr><tr><td>2025-10-17</td><td>VALE3.SA</td><td>3643.0</td></tr><tr><td>2025-10-17</td><td>WEGE3.SA</td><td>11413.0</td></tr><tr><td>2025-10-17</td><td>^BVSP</td><td>7958.0</td></tr></tbody></table></div>"
      ]
     },
     "metadata": {
      "application/vnd.databricks.v1+output": {
       "addedWidgets": {},
       "aggData": [],
       "aggError": "",
       "aggOverflow": false,
       "aggSchema": [],
       "aggSeriesLimitReached": false,
       "aggType": "",
       "arguments": {},
       "columnCustomDisplayInfos": {},
       "data": [
        [
         "2025-09-18",
         "ITUB4.SA",
         6284.0
        ],
        [
         "2025-09-18",
         "PETR4.SA",
         5444.0
        ],
        [
         "2025-09-18",
         "VALE3.SA",
         3622.0
        ],
        [
         "2025-09-18",
         "WEGE3.SA",
         8900.0
        ],
        [
         "2025-09-18",
         "^BVSP",
         7569.0
        ],
        [
         "2025-09-19",
         "ITUB4.SA",
         6029.0
        ],
        [
         "2025-09-19",
         "PETR4.SA",
         5418.0
        ],
        [
         "2025-09-19",
         "VALE3.SA",
         3672.0
        ],
        [
         "2025-09-19",
         "WEGE3.SA",
         9130.0
        ],
        [
         "2025-09-19",
         "^BVSP",
         7666.0
        ],
        [
         "2025-09-22",
         "ITUB4.SA",
         6058.0
        ],
        [
         "2025-09-22",
         "PETR4.SA",
         5417.0
        ],
        [
         "2025-09-22",
         "VALE3.SA",
         3804.0
        ],
        [
         "2025-09-22",
         "WEGE3.SA",
         9561.0
        ],
        [
         "2025-09-22",
         "^BVSP",
         7564.0
        ],
        [
         "2025-09-23",
         "ITUB4.SA",
         6040.0
        ],
        [
         "2025-09-23",
         "PETR4.SA",
         5657.0
        ],
        [
         "2025-09-23",
         "VALE3.SA",
         3725.0
        ],
        [
         "2025-09-23",
         "WEGE3.SA",
         9646.0
        ],
        [
         "2025-09-23",
         "^BVSP",
         7497.0
        ],
        [
         "2025-09-24",
         "ITUB4.SA",
         6113.0
        ],
        [
         "2025-09-24",
         "PETR4.SA",
         5526.0
        ],
        [
         "2025-09-24",
         "VALE3.SA",
         3751.0
        ],
        [
         "2025-09-24",
         "WEGE3.SA",
         9785.0
        ],
        [
         "2025-09-24",
         "^BVSP",
         7256.0
        ],
        [
         "2025-09-25",
         "ITUB4.SA",
         5998.0
        ],
        [
         "2025-09-25",
         "PETR4.SA",
         5552.0
        ],
        [
         "2025-09-25",
         "VALE3.SA",
         3802.0
        ],
        [
         "2025-09-25",
         "WEGE3.SA",
         10179.0
        ],
        [
         "2025-09-25",
         "^BVSP",
         7385.0
        ],
        [
         "2025-09-26",
         "ITUB4.SA",
         5804.0
        ],
        [
         "2025-09-26",
         "PETR4.SA",
         5657.0
        ],
        [
         "2025-09-26",
         "VALE3.SA",
         3774.0
        ],
        [
         "2025-09-26",
         "WEGE3.SA",
         10485.0
        ],
        [
         "2025-09-26",
         "^BVSP",
         7601.0
        ],
        [
         "2025-09-29",
         "ITUB4.SA",
         5660.0
        ],
        [
         "2025-09-29",
         "PETR4.SA",
         5705.0
        ],
        [
         "2025-09-29",
         "VALE3.SA",
         3778.0
        ],
        [
         "2025-09-29",
         "WEGE3.SA",
         10543.0
        ],
        [
         "2025-09-29",
         "^BVSP",
         7588.0
        ],
        [
         "2025-09-30",
         "ITUB4.SA",
         5542.0
        ],
        [
         "2025-09-30",
         "PETR4.SA",
         5862.0
        ],
        [
         "2025-09-30",
         "VALE3.SA",
         3802.0
        ],
        [
         "2025-09-30",
         "WEGE3.SA",
         10835.0
        ],
        [
         "2025-09-30",
         "^BVSP",
         7649.0
        ],
        [
         "2025-10-01",
         "ITUB4.SA",
         5586.0
        ],
        [
         "2025-10-01",
         "PETR4.SA",
         5816.0
        ],
        [
         "2025-10-01",
         "VALE3.SA",
         3781.0
        ],
        [
         "2025-10-01",
         "WEGE3.SA",
         10666.0
        ],
        [
         "2025-10-01",
         "^BVSP",
         7466.0
        ],
        [
         "2025-10-02",
         "ITUB4.SA",
         5644.0
        ],
        [
         "2025-10-02",
         "PETR4.SA",
         5730.0
        ],
        [
         "2025-10-02",
         "VALE3.SA",
         3798.0
        ],
        [
         "2025-10-02",
         "WEGE3.SA",
         10722.0
        ],
        [
         "2025-10-02",
         "^BVSP",
         7750.0
        ],
        [
         "2025-10-03",
         "ITUB4.SA",
         5787.0
        ],
        [
         "2025-10-03",
         "PETR4.SA",
         5700.0
        ],
        [
         "2025-10-03",
         "VALE3.SA",
         3901.0
        ],
        [
         "2025-10-03",
         "WEGE3.SA",
         11032.0
        ],
        [
         "2025-10-03",
         "^BVSP",
         7827.0
        ],
        [
         "2025-10-06",
         "ITUB4.SA",
         5771.0
        ],
        [
         "2025-10-06",
         "PETR4.SA",
         5625.0
        ],
        [
         "2025-10-06",
         "VALE3.SA",
         3865.0
        ],
        [
         "2025-10-06",
         "WEGE3.SA",
         11008.0
        ],
        [
         "2025-10-06",
         "^BVSP",
         7996.0
        ],
        [
         "2025-10-07",
         "ITUB4.SA",
         5635.0
        ],
        [
         "2025-10-07",
         "PETR4.SA",
         5687.0
        ],
        [
         "2025-10-07",
         "VALE3.SA",
         3808.0
        ],
        [
         "2025-10-07",
         "WEGE3.SA",
         11255.0
        ],
        [
         "2025-10-07",
         "^BVSP",
         7875.0
        ],
        [
         "2025-10-08",
         "ITUB4.SA",
         5628.0
        ],
        [
         "2025-10-08",
         "PETR4.SA",
         5575.0
        ],
        [
         "2025-10-08",
         "VALE3.SA",
         3867.0
        ],
        [
         "2025-10-08",
         "WEGE3.SA",
         11471.0
        ],
        [
         "2025-10-08",
         "^BVSP",
         7798.0
        ],
        [
         "2025-10-09",
         "ITUB4.SA",
         5828.0
        ],
        [
         "2025-10-09",
         "PETR4.SA",
         5596.0
        ],
        [
         "2025-10-09",
         "VALE3.SA",
         3914.0
        ],
        [
         "2025-10-09",
         "WEGE3.SA",
         11633.0
        ],
        [
         "2025-10-09",
         "^BVSP",
         7902.0
        ],
        [
         "2025-10-10",
         "ITUB4.SA",
         5878.0
        ],
        [
         "2025-10-10",
         "PETR4.SA",
         5670.0
        ],
        [
         "2025-10-10",
         "VALE3.SA",
         3944.0
        ],
        [
         "2025-10-10",
         "WEGE3.SA",
         11459.0
        ],
        [
         "2025-10-10",
         "^BVSP",
         8042.0
        ],
        [
         "2025-10-13",
         "ITUB4.SA",
         5655.0
        ],
        [
         "2025-10-13",
         "PETR4.SA",
         5512.0
        ],
        [
         "2025-10-13",
         "VALE3.SA",
         3756.0
        ],
        [
         "2025-10-13",
         "WEGE3.SA",
         11468.0
        ],
        [
         "2025-10-13",
         "^BVSP",
         7924.0
        ],
        [
         "2025-10-14",
         "ITUB4.SA",
         5784.0
        ],
        [
         "2025-10-14",
         "PETR4.SA",
         5594.0
        ],
        [
         "2025-10-14",
         "VALE3.SA",
         3655.0
        ],
        [
         "2025-10-14",
         "WEGE3.SA",
         11582.0
        ],
        [
         "2025-10-14",
         "^BVSP",
         7947.0
        ],
        [
         "2025-10-15",
         "ITUB4.SA",
         5439.0
        ],
        [
         "2025-10-15",
         "PETR4.SA",
         5710.0
        ],
        [
         "2025-10-15",
         "VALE3.SA",
         3677.0
        ],
        [
         "2025-10-15",
         "WEGE3.SA",
         11572.0
        ],
        [
         "2025-10-15",
         "^BVSP",
         8102.0
        ],
        [
         "2025-10-16",
         "ITUB4.SA",
         5459.0
        ],
        [
         "2025-10-16",
         "PETR4.SA",
         5911.0
        ],
        [
         "2025-10-16",
         "VALE3.SA",
         3678.0
        ],
        [
         "2025-10-16",
         "WEGE3.SA",
         11339.0
        ],
        [
         "2025-10-16",
         "^BVSP",
         7901.0
        ],
        [
         "2025-10-17",
         "ITUB4.SA",
         5466.0
        ],
        [
         "2025-10-17",
         "PETR4.SA",
         5779.0
        ],
        [
         "2025-10-17",
         "VALE3.SA",
         3643.0
        ],
        [
         "2025-10-17",
         "WEGE3.SA",
         11413.0
        ],
        [
         "2025-10-17",
         "^BVSP",
         7958.0
        ]
       ],
       "datasetInfos": [],
       "dbfsResultPath": null,
       "isJsonSchema": true,
       "metadata": {},
       "overflow": false,
       "plotOptions": {
        "customPlotOptions": {},
        "displayType": "table",
        "pivotAggregation": null,
        "pivotColumns": null,
        "xColumns": null,
        "yColumns": null
       },
       "removedWidgets": [],
       "schema": [
        {
         "metadata": "{}",
         "name": "dia",
         "type": "\"date\""
        },
        {
         "metadata": "{}",
         "name": "ticker",
         "type": "\"string\""
        },
        {
         "metadata": "{}",
         "name": "preco_medio",
         "type": "\"double\""
        }
       ],
       "type": "table"
      }
     },
     "output_type": "display_data"
    }
   ],
   "source": [
    "df = spark.sql(\"\"\"\n",
    "SELECT\n",
    "  to_date(trade_date) AS dia,\n",
    "  ticker,\n",
    "  ROUND(AVG(close), 2) AS preco_medio\n",
    "FROM fato_precos\n",
    "WHERE trade_date >= date_sub(current_date(), 30)\n",
    "GROUP BY 1, 2\n",
    "ORDER BY 1, 2\n",
    "\"\"\")\n",
    "display(df)"
   ]
  },
  {
   "cell_type": "markdown",
   "metadata": {
    "application/vnd.databricks.v1+cell": {
     "cellMetadata": {
      "byteLimit": 2048000,
      "rowLimit": 10000
     },
     "inputWidgets": {},
     "nuid": "ed1b3c7c-3f03-4e0d-9a24-35e0b6e30103",
     "showTitle": false,
     "tableResultSettingsMap": {},
     "title": ""
    }
   },
   "source": [
    "2) Top 10 dias de maior volume (geral)\n"
   ]
  },
  {
   "cell_type": "code",
   "execution_count": 0,
   "metadata": {
    "application/vnd.databricks.v1+cell": {
     "cellMetadata": {
      "byteLimit": 2048000,
      "rowLimit": 10000
     },
     "inputWidgets": {},
     "nuid": "346e7d16-7a2e-4ee7-94b5-2c1b7424ca83",
     "showTitle": false,
     "tableResultSettingsMap": {},
     "title": ""
    }
   },
   "outputs": [
    {
     "output_type": "display_data",
     "data": {
      "text/html": [
       "<style scoped>\n",
       "  .table-result-container {\n",
       "    max-height: 300px;\n",
       "    overflow: auto;\n",
       "  }\n",
       "  table, th, td {\n",
       "    border: 1px solid black;\n",
       "    border-collapse: collapse;\n",
       "  }\n",
       "  th, td {\n",
       "    padding: 5px;\n",
       "  }\n",
       "  th {\n",
       "    text-align: left;\n",
       "  }\n",
       "</style><div class='table-result-container'><table class='table-result'><thead style='background-color: white'><tr><th>dia</th><th>ticker</th><th>volume</th></tr></thead><tbody><tr><td>2025-10-10</td><td>VALE3.SA</td><td>9045298</td></tr><tr><td>2025-08-01</td><td>VALE3.SA</td><td>8785150</td></tr><tr><td>2025-10-15</td><td>VALE3.SA</td><td>8646327</td></tr><tr><td>2025-08-04</td><td>WEGE3.SA</td><td>8501543</td></tr><tr><td>2025-06-26</td><td>VALE3.SA</td><td>8124457</td></tr><tr><td>2025-08-29</td><td>PETR4.SA</td><td>8117590</td></tr><tr><td>2025-06-16</td><td>WEGE3.SA</td><td>8006801</td></tr><tr><td>2025-08-12</td><td>WEGE3.SA</td><td>7919973</td></tr><tr><td>2025-07-21</td><td>^BVSP</td><td>7879736</td></tr><tr><td>2025-09-02</td><td>WEGE3.SA</td><td>7853708</td></tr></tbody></table></div>"
      ]
     },
     "metadata": {
      "application/vnd.databricks.v1+output": {
       "addedWidgets": {},
       "aggData": [],
       "aggError": "",
       "aggOverflow": false,
       "aggSchema": [],
       "aggSeriesLimitReached": false,
       "aggType": "",
       "arguments": {},
       "columnCustomDisplayInfos": {},
       "data": [
        [
         "2025-10-10",
         "VALE3.SA",
         9045298
        ],
        [
         "2025-08-01",
         "VALE3.SA",
         8785150
        ],
        [
         "2025-10-15",
         "VALE3.SA",
         8646327
        ],
        [
         "2025-08-04",
         "WEGE3.SA",
         8501543
        ],
        [
         "2025-06-26",
         "VALE3.SA",
         8124457
        ],
        [
         "2025-08-29",
         "PETR4.SA",
         8117590
        ],
        [
         "2025-06-16",
         "WEGE3.SA",
         8006801
        ],
        [
         "2025-08-12",
         "WEGE3.SA",
         7919973
        ],
        [
         "2025-07-21",
         "^BVSP",
         7879736
        ],
        [
         "2025-09-02",
         "WEGE3.SA",
         7853708
        ]
       ],
       "datasetInfos": [],
       "dbfsResultPath": null,
       "isJsonSchema": true,
       "metadata": {},
       "overflow": false,
       "plotOptions": {
        "customPlotOptions": {},
        "displayType": "table",
        "pivotAggregation": null,
        "pivotColumns": null,
        "xColumns": null,
        "yColumns": null
       },
       "removedWidgets": [],
       "schema": [
        {
         "metadata": "{}",
         "name": "dia",
         "type": "\"date\""
        },
        {
         "metadata": "{}",
         "name": "ticker",
         "type": "\"string\""
        },
        {
         "metadata": "{}",
         "name": "volume",
         "type": "\"long\""
        }
       ],
       "type": "table"
      }
     },
     "output_type": "display_data"
    }
   ],
   "source": [
    "df = spark.sql(\"\"\"\n",
    "SELECT\n",
    "  to_date(trade_date) AS dia,\n",
    "  ticker,\n",
    "  volume\n",
    "FROM fato_precos\n",
    "ORDER BY volume DESC\n",
    "LIMIT 10\n",
    "\"\"\")\n",
    "\n",
    "display(df)\n"
   ]
  },
  {
   "cell_type": "markdown",
   "metadata": {
    "application/vnd.databricks.v1+cell": {
     "cellMetadata": {},
     "inputWidgets": {},
     "nuid": "0f9e5a5f-6ba4-44c3-a9c3-e0a06001a02e",
     "showTitle": false,
     "tableResultSettingsMap": {},
     "title": ""
    }
   },
   "source": [
    "3) Volatilidade (desvio-padrão) de 21 dias por ticker"
   ]
  },
  {
   "cell_type": "code",
   "execution_count": 0,
   "metadata": {
    "application/vnd.databricks.v1+cell": {
     "cellMetadata": {
      "byteLimit": 2048000,
      "rowLimit": 10000
     },
     "inputWidgets": {},
     "nuid": "30cdda7d-bff1-4abd-b249-ff71431613d8",
     "showTitle": false,
     "tableResultSettingsMap": {},
     "title": ""
    }
   },
   "outputs": [
    {
     "output_type": "display_data",
     "data": {
      "text/html": [
       "<style scoped>\n",
       "  .table-result-container {\n",
       "    max-height: 300px;\n",
       "    overflow: auto;\n",
       "  }\n",
       "  table, th, td {\n",
       "    border: 1px solid black;\n",
       "    border-collapse: collapse;\n",
       "  }\n",
       "  th, td {\n",
       "    padding: 5px;\n",
       "  }\n",
       "  th {\n",
       "    text-align: left;\n",
       "  }\n",
       "</style><div class='table-result-container'><table class='table-result'><thead style='background-color: white'><tr><th>ticker</th><th>vol21_atual</th></tr></thead><tbody><tr><td>^BVSP</td><td>2.97</td></tr><tr><td>ITUB4.SA</td><td>2.666</td></tr><tr><td>WEGE3.SA</td><td>2.631</td></tr><tr><td>PETR4.SA</td><td>2.549</td></tr><tr><td>VALE3.SA</td><td>2.48</td></tr></tbody></table></div>"
      ]
     },
     "metadata": {
      "application/vnd.databricks.v1+output": {
       "addedWidgets": {},
       "aggData": [],
       "aggError": "",
       "aggOverflow": false,
       "aggSchema": [],
       "aggSeriesLimitReached": false,
       "aggType": "",
       "arguments": {},
       "columnCustomDisplayInfos": {},
       "data": [
        [
         "^BVSP",
         2.97
        ],
        [
         "ITUB4.SA",
         2.666
        ],
        [
         "WEGE3.SA",
         2.631
        ],
        [
         "PETR4.SA",
         2.549
        ],
        [
         "VALE3.SA",
         2.48
        ]
       ],
       "datasetInfos": [],
       "dbfsResultPath": null,
       "isJsonSchema": true,
       "metadata": {},
       "overflow": false,
       "plotOptions": {
        "customPlotOptions": {},
        "displayType": "table",
        "pivotAggregation": null,
        "pivotColumns": null,
        "xColumns": null,
        "yColumns": null
       },
       "removedWidgets": [],
       "schema": [
        {
         "metadata": "{}",
         "name": "ticker",
         "type": "\"string\""
        },
        {
         "metadata": "{}",
         "name": "vol21_atual",
         "type": "\"double\""
        }
       ],
       "type": "table"
      }
     },
     "output_type": "display_data"
    }
   ],
   "source": [
    "from pyspark.sql import functions as F, Window\n",
    "\n",
    "df = spark.table(\"fato_precos\")\n",
    "w = Window.partitionBy(\"ticker\").orderBy(\"trade_date\").rowsBetween(-20, 0)\n",
    "\n",
    "df_vol = (df\n",
    "    .withColumn(\"return_pct\",\n",
    "        (F.col(\"close\") - F.lag(\"close\").over(Window.partitionBy(\"ticker\").orderBy(\"trade_date\")))\n",
    "        / F.lag(\"close\").over(Window.partitionBy(\"ticker\").orderBy(\"trade_date\")) * 100.0\n",
    "    )\n",
    "    .withColumn(\"vol21\", F.stddev_samp(\"return_pct\").over(w))\n",
    "    .groupBy(\"ticker\")\n",
    "    .agg(F.round(F.max(\"vol21\"), 3).alias(\"vol21_atual\"))\n",
    "    .orderBy(F.desc(\"vol21_atual\"))\n",
    ")\n",
    "\n",
    "display(df_vol)\n"
   ]
  },
  {
   "cell_type": "markdown",
   "metadata": {
    "application/vnd.databricks.v1+cell": {
     "cellMetadata": {},
     "inputWidgets": {},
     "nuid": "ff333d35-62cf-4fbf-aaa0-867a8cd5c698",
     "showTitle": false,
     "tableResultSettingsMap": {},
     "title": ""
    }
   },
   "source": []
  },
  {
   "cell_type": "markdown",
   "metadata": {
    "application/vnd.databricks.v1+cell": {
     "cellMetadata": {},
     "inputWidgets": {},
     "nuid": "6db45457-5114-4f6a-ba8b-8386c94d65b2",
     "showTitle": false,
     "tableResultSettingsMap": {},
     "title": ""
    }
   },
   "source": [
    "4) Retorno acumulado por ticker (YTD)"
   ]
  },
  {
   "cell_type": "code",
   "execution_count": 0,
   "metadata": {
    "application/vnd.databricks.v1+cell": {
     "cellMetadata": {
      "byteLimit": 2048000,
      "rowLimit": 10000
     },
     "inputWidgets": {},
     "nuid": "8f06d12a-e398-41c0-aeaa-bf53d2c86531",
     "showTitle": false,
     "tableResultSettingsMap": {},
     "title": ""
    }
   },
   "outputs": [
    {
     "output_type": "display_data",
     "data": {
      "text/html": [
       "<style scoped>\n",
       "  .table-result-container {\n",
       "    max-height: 300px;\n",
       "    overflow: auto;\n",
       "  }\n",
       "  table, th, td {\n",
       "    border: 1px solid black;\n",
       "    border-collapse: collapse;\n",
       "  }\n",
       "  th, td {\n",
       "    padding: 5px;\n",
       "  }\n",
       "  th {\n",
       "    text-align: left;\n",
       "  }\n",
       "</style><div class='table-result-container'><table class='table-result'><thead style='background-color: white'><tr><th>ticker</th><th>retorno_acumulado_pct</th></tr></thead><tbody><tr><td>ITUB4.SA</td><td>30.41</td></tr><tr><td>WEGE3.SA</td><td>26.42</td></tr><tr><td>^BVSP</td><td>21.4</td></tr><tr><td>VALE3.SA</td><td>7.27</td></tr><tr><td>PETR4.SA</td><td>0.0</td></tr></tbody></table></div>"
      ]
     },
     "metadata": {
      "application/vnd.databricks.v1+output": {
       "addedWidgets": {},
       "aggData": [],
       "aggError": "",
       "aggOverflow": false,
       "aggSchema": [],
       "aggSeriesLimitReached": false,
       "aggType": "",
       "arguments": {},
       "columnCustomDisplayInfos": {},
       "data": [
        [
         "ITUB4.SA",
         30.41
        ],
        [
         "WEGE3.SA",
         26.42
        ],
        [
         "^BVSP",
         21.4
        ],
        [
         "VALE3.SA",
         7.27
        ],
        [
         "PETR4.SA",
         0.0
        ]
       ],
       "datasetInfos": [],
       "dbfsResultPath": null,
       "isJsonSchema": true,
       "metadata": {},
       "overflow": false,
       "plotOptions": {
        "customPlotOptions": {},
        "displayType": "table",
        "pivotAggregation": null,
        "pivotColumns": null,
        "xColumns": null,
        "yColumns": null
       },
       "removedWidgets": [],
       "schema": [
        {
         "metadata": "{}",
         "name": "ticker",
         "type": "\"string\""
        },
        {
         "metadata": "{}",
         "name": "retorno_acumulado_pct",
         "type": "\"double\""
        }
       ],
       "type": "table"
      }
     },
     "output_type": "display_data"
    }
   ],
   "source": [
    "display(spark.sql(\"\"\"\n",
    "WITH base AS (\n",
    "  SELECT\n",
    "    ticker,\n",
    "    trade_date,\n",
    "    close,\n",
    "    FIRST_VALUE(close) OVER (PARTITION BY ticker ORDER BY trade_date\n",
    "                             ROWS BETWEEN UNBOUNDED PRECEDING AND UNBOUNDED FOLLOWING) AS first_close\n",
    "  FROM fato_precos\n",
    "  WHERE year(trade_date) = year(current_date())\n",
    ")\n",
    "SELECT\n",
    "  ticker,\n",
    "  ROUND( (MAX(close)/MAX(first_close) - 1) * 100, 2) AS retorno_acumulado_pct\n",
    "FROM base\n",
    "GROUP BY ticker\n",
    "ORDER BY retorno_acumulado_pct DESC\n",
    "\"\"\"))\n"
   ]
  },
  {
   "cell_type": "markdown",
   "metadata": {
    "application/vnd.databricks.v1+cell": {
     "cellMetadata": {},
     "inputWidgets": {},
     "nuid": "3d0fe3a4-a37b-4d70-9cd5-74a6e22b4018",
     "showTitle": false,
     "tableResultSettingsMap": {},
     "title": ""
    }
   },
   "source": [
    "5. Linha — Volatilidade 21d (rolling std de retorno) por ticker"
   ]
  },
  {
   "cell_type": "code",
   "execution_count": 0,
   "metadata": {
    "application/vnd.databricks.v1+cell": {
     "cellMetadata": {
      "byteLimit": 2048000,
      "rowLimit": 10000
     },
     "inputWidgets": {},
     "nuid": "246c92bf-6394-4a77-8ab3-a4c89a385ac5",
     "showTitle": false,
     "tableResultSettingsMap": {},
     "title": ""
    }
   },
   "outputs": [
    {
     "output_type": "display_data",
     "data": {
      "image/png": "[encoded data removed]",
      "text/plain": [
       "<Figure size 1000x500 with 1 Axes>"
      ]
     },
     "metadata": {},
     "output_type": "display_data"
    }
   ],
   "source": [
    "import matplotlib.pyplot as plt\n",
    "import pandas as pd\n",
    "from pyspark.sql import functions as F, Window\n",
    "\n",
    "df = spark.table(\"fato_precos\")\n",
    "w = Window.partitionBy(\"ticker\").orderBy(\"trade_date\")\n",
    "\n",
    "df_ret = (df\n",
    "    .withColumn(\"lag_close\", F.lag(\"close\").over(w))\n",
    "    .withColumn(\"return_pct\", (F.col(\"close\")-F.col(\"lag_close\"))/F.col(\"lag_close\")*100.0)\n",
    "    .select(\"trade_date\",\"ticker\",\"return_pct\")\n",
    ")\n",
    "\n",
    "pdf = (df_ret\n",
    "       .orderBy(\"trade_date\",\"ticker\")\n",
    "       .toPandas())\n",
    "\n",
    "plt.figure(figsize=(10,5))\n",
    "for t in pdf[\"ticker\"].unique():\n",
    "    sub = pdf[pdf[\"ticker\"]==t].copy()\n",
    "    sub[\"vol21\"] = sub[\"return_pct\"].rolling(21).std()\n",
    "    plt.plot(sub[\"trade_date\"], sub[\"vol21\"], label=t)\n",
    "plt.title(\"Volatilidade 21d (desvio-padrão dos retornos)\")\n",
    "plt.xlabel(\"Data\")\n",
    "plt.ylabel(\"Vol 21d (p.p.)\")\n",
    "plt.legend()\n",
    "plt.tight_layout()\n",
    "plt.show()\n"
   ]
  }
 ],
 "metadata": {
  "application/vnd.databricks.v1+notebook": {
   "computePreferences": null,
   "dashboards": [],
   "environmentMetadata": null,
   "inputWidgetPreferences": null,
   "language": "python",
   "notebookMetadata": {
    "mostRecentlyExecutedCommandWithImplicitDF": {
     "commandId": 4568317591437283,
     "dataframes": [
      "_sqldf"
     ]
    },
    "pythonIndentUnit": 4
   },
   "notebookName": "Pipeline_Financeiro_Databricks",
   "widgets": {}
  },
  "language_info": {
   "name": "python"
  }
 },
 "nbformat": 4,
 "nbformat_minor": 0
}